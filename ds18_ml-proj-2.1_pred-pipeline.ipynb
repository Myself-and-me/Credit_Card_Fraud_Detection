{
 "cells": [
  {
   "cell_type": "markdown",
   "metadata": {},
   "source": [
    "**Credit Card Detection Pipeline**"
   ]
  },
  {
   "cell_type": "code",
   "execution_count": 15,
   "metadata": {},
   "outputs": [],
   "source": [
    "import pandas as pd\n",
    "import numpy as np\n",
    "import matplotlib.pyplot as plt\n",
    "import seaborn as sns\n",
    "\n",
    "from sklearn.ensemble import RandomForestClassifier\n",
    "from sklearn.model_selection import train_test_split\n",
    "from sklearn.preprocessing import LabelEncoder\n",
    "from sklearn.linear_model import LogisticRegression\n",
    "from sklearn.metrics import classification_report, confusion_matrix, roc_auc_score, RocCurveDisplay\n",
    "from imblearn.over_sampling import SMOTE"
   ]
  },
  {
   "cell_type": "code",
   "execution_count": 1,
   "metadata": {},
   "outputs": [],
   "source": [
    "dir = '../csv/'\n",
    "fname = 'credit_card_fraud_sample_2019_Dec_100K'"
   ]
  },
  {
   "cell_type": "code",
   "execution_count": 4,
   "metadata": {},
   "outputs": [],
   "source": [
    "df_BASE = pd.read_pickle(fname + '_eda.pkl')"
   ]
  },
  {
   "cell_type": "code",
   "execution_count": 7,
   "metadata": {},
   "outputs": [
    {
     "name": "stdout",
     "output_type": "stream",
     "text": [
      "<class 'pandas.core.frame.DataFrame'>\n",
      "Index: 100000 entries, 38655 to 41847\n",
      "Data columns (total 37 columns):\n",
      " #   Column                     Non-Null Count   Dtype         \n",
      "---  ------                     --------------   -----         \n",
      " 0   cc_num                     100000 non-null  int64         \n",
      " 1   gender                     100000 non-null  int64         \n",
      " 2   city                       100000 non-null  object        \n",
      " 3   state                      100000 non-null  object        \n",
      " 4   zip                        100000 non-null  int32         \n",
      " 5   lat                        100000 non-null  float64       \n",
      " 6   long                       100000 non-null  float64       \n",
      " 7   city_pop                   100000 non-null  int64         \n",
      " 8   job                        100000 non-null  object        \n",
      " 9   dob                        100000 non-null  datetime64[ns]\n",
      " 10  acct_num                   100000 non-null  int64         \n",
      " 11  profile                    100000 non-null  object        \n",
      " 12  trans_num                  100000 non-null  object        \n",
      " 13  trans_date                 100000 non-null  datetime64[ns]\n",
      " 14  trans_time                 100000 non-null  datetime64[ns]\n",
      " 15  unix_time                  100000 non-null  int32         \n",
      " 16  category                   100000 non-null  object        \n",
      " 17  amt                        100000 non-null  float64       \n",
      " 18  is_fraud                   100000 non-null  int64         \n",
      " 19  merchant                   100000 non-null  object        \n",
      " 20  merch_lat                  100000 non-null  float64       \n",
      " 21  merch_long                 100000 non-null  float64       \n",
      " 22  region                     100000 non-null  object        \n",
      " 23  trans_day_of_week          100000 non-null  int32         \n",
      " 24  is_weekend                 100000 non-null  int32         \n",
      " 25  trans_hour                 100000 non-null  int32         \n",
      " 26  trans_time_segment         100000 non-null  object        \n",
      " 27  age                        100000 non-null  int32         \n",
      " 28  age_group                  100000 non-null  object        \n",
      " 29  cc_type                    100000 non-null  object        \n",
      " 30  area_cat                   100000 non-null  object        \n",
      " 31  distance                   100000 non-null  float64       \n",
      " 32  time_since_last_trans      100000 non-null  float64       \n",
      " 33  job_cat                    100000 non-null  object        \n",
      " 34  log_amt                    100000 non-null  float64       \n",
      " 35  log_time_since_last_trans  100000 non-null  float64       \n",
      " 36  log_city_pop               100000 non-null  float64       \n",
      "dtypes: datetime64[ns](3), float64(10), int32(6), int64(5), object(13)\n",
      "memory usage: 26.7+ MB\n",
      "None\n"
     ]
    },
    {
     "data": {
      "application/vnd.microsoft.datawrangler.viewer.v0+json": {
       "columns": [
        {
         "name": "index",
         "rawType": "int64",
         "type": "integer"
        },
        {
         "name": "cc_num",
         "rawType": "int64",
         "type": "integer"
        },
        {
         "name": "gender",
         "rawType": "int64",
         "type": "integer"
        },
        {
         "name": "city",
         "rawType": "object",
         "type": "string"
        },
        {
         "name": "state",
         "rawType": "object",
         "type": "string"
        },
        {
         "name": "zip",
         "rawType": "int32",
         "type": "integer"
        },
        {
         "name": "lat",
         "rawType": "float64",
         "type": "float"
        },
        {
         "name": "long",
         "rawType": "float64",
         "type": "float"
        },
        {
         "name": "city_pop",
         "rawType": "int64",
         "type": "integer"
        },
        {
         "name": "job",
         "rawType": "object",
         "type": "string"
        },
        {
         "name": "dob",
         "rawType": "datetime64[ns]",
         "type": "datetime"
        },
        {
         "name": "acct_num",
         "rawType": "int64",
         "type": "integer"
        },
        {
         "name": "profile",
         "rawType": "object",
         "type": "string"
        },
        {
         "name": "trans_num",
         "rawType": "object",
         "type": "string"
        },
        {
         "name": "trans_date",
         "rawType": "datetime64[ns]",
         "type": "datetime"
        },
        {
         "name": "trans_time",
         "rawType": "datetime64[ns]",
         "type": "datetime"
        },
        {
         "name": "unix_time",
         "rawType": "int32",
         "type": "integer"
        },
        {
         "name": "category",
         "rawType": "object",
         "type": "string"
        },
        {
         "name": "amt",
         "rawType": "float64",
         "type": "float"
        },
        {
         "name": "is_fraud",
         "rawType": "int64",
         "type": "integer"
        },
        {
         "name": "merchant",
         "rawType": "object",
         "type": "string"
        },
        {
         "name": "merch_lat",
         "rawType": "float64",
         "type": "float"
        },
        {
         "name": "merch_long",
         "rawType": "float64",
         "type": "float"
        },
        {
         "name": "region",
         "rawType": "object",
         "type": "string"
        },
        {
         "name": "trans_day_of_week",
         "rawType": "int32",
         "type": "integer"
        },
        {
         "name": "is_weekend",
         "rawType": "int32",
         "type": "integer"
        },
        {
         "name": "trans_hour",
         "rawType": "int32",
         "type": "integer"
        },
        {
         "name": "trans_time_segment",
         "rawType": "object",
         "type": "string"
        },
        {
         "name": "age",
         "rawType": "int32",
         "type": "integer"
        },
        {
         "name": "age_group",
         "rawType": "object",
         "type": "string"
        },
        {
         "name": "cc_type",
         "rawType": "object",
         "type": "string"
        },
        {
         "name": "area_cat",
         "rawType": "object",
         "type": "string"
        },
        {
         "name": "distance",
         "rawType": "float64",
         "type": "float"
        },
        {
         "name": "time_since_last_trans",
         "rawType": "float64",
         "type": "float"
        },
        {
         "name": "job_cat",
         "rawType": "object",
         "type": "string"
        },
        {
         "name": "log_amt",
         "rawType": "float64",
         "type": "float"
        },
        {
         "name": "log_time_since_last_trans",
         "rawType": "float64",
         "type": "float"
        },
        {
         "name": "log_city_pop",
         "rawType": "float64",
         "type": "float"
        }
       ],
       "conversionMethod": "pd.DataFrame",
       "ref": "aba2a67b-a657-43bf-97c9-58af472da239",
       "rows": [
        [
         "38655",
         "3510694985435665",
         "0",
         "sidney",
         "NE",
         "69162",
         "41.138",
         "-102.9856",
         "7765",
         "energy_manager",
         "1941-05-26 00:00:00",
         "18374117",
         "adults_50up_female_urban.json",
         "fe3b96184c6f0df6dc0e7167e2c690ad",
         "2019-12-08 00:00:00",
         "1900-01-01 07:20:39",
         "1575769839",
         "shopping_pos",
         "2.14",
         "0",
         "fraud_bahringer_schoen_and_corkery",
         "40.496517",
         "-102.800586",
         "Midwest",
         "6",
         "1",
         "7",
         "morning_6-12",
         "78",
         "senior",
         "Unknown",
         "urban",
         "72.92692172273485",
         "0.0",
         "Management",
         "1.144222799920162",
         "0.0",
         "8.957510510291613"
        ],
        [
         "75696",
         "3510694985435665",
         "0",
         "sidney",
         "NE",
         "69162",
         "41.138",
         "-102.9856",
         "7765",
         "energy_manager",
         "1941-05-26 00:00:00",
         "18374117",
         "adults_50up_female_urban.json",
         "c55f6b59060f8ec42da7e497ccda2a85",
         "2019-12-11 00:00:00",
         "1900-01-01 06:28:05",
         "1576025885",
         "shopping_pos",
         "8.21",
         "0",
         "fraud_watsica_haag_and_considine",
         "42.065814",
         "-102.130644",
         "Midwest",
         "2",
         "0",
         "6",
         "morning_6-12",
         "78",
         "senior",
         "Unknown",
         "urban",
         "125.29336971459102",
         "71.12388888888889",
         "Management",
         "2.2202898502672155",
         "4.278385319356239",
         "8.957510510291613"
        ],
        [
         "32552",
         "3510694985435665",
         "0",
         "sidney",
         "NE",
         "69162",
         "41.138",
         "-102.9856",
         "7765",
         "energy_manager",
         "1941-05-26 00:00:00",
         "18374117",
         "adults_50up_female_urban.json",
         "67cb71be8b60d59d21c45f4dc324cd37",
         "2019-12-11 00:00:00",
         "1900-01-01 07:17:51",
         "1576028871",
         "shopping_pos",
         "2.76",
         "0",
         "fraud_stoltenberg-beatty",
         "40.951743",
         "-102.027276",
         "Midwest",
         "2",
         "0",
         "7",
         "morning_6-12",
         "78",
         "senior",
         "Unknown",
         "urban",
         "83.18625703351778",
         "0.8294444444444444",
         "Management",
         "1.324418957401803",
         "0.6040123384921082",
         "8.957510510291613"
        ],
        [
         "93986",
         "3510694985435665",
         "0",
         "sidney",
         "NE",
         "69162",
         "41.138",
         "-102.9856",
         "7765",
         "energy_manager",
         "1941-05-26 00:00:00",
         "18374117",
         "adults_50up_female_urban.json",
         "cf9972057d72b2a11e5e99816522828c",
         "2019-12-18 00:00:00",
         "1900-01-01 03:28:15",
         "1576619895",
         "shopping_pos",
         "1.8",
         "0",
         "fraud_pouros-haag",
         "40.860335",
         "-102.522878",
         "Midwest",
         "2",
         "0",
         "3",
         "late_night_0-6",
         "78",
         "senior",
         "Unknown",
         "urban",
         "49.6639564940727",
         "164.17333333333335",
         "Management",
         "1.0296194171811581",
         "5.106995427556783",
         "8.957510510291613"
        ],
        [
         "70538",
         "3510694985435665",
         "0",
         "sidney",
         "NE",
         "69162",
         "41.138",
         "-102.9856",
         "7765",
         "energy_manager",
         "1941-05-26 00:00:00",
         "18374117",
         "adults_50up_female_urban.json",
         "a3fd6137233e2eb3e3fabba64a39f4da",
         "2019-12-22 00:00:00",
         "1900-01-01 11:15:05",
         "1576993505",
         "entertainment",
         "121.22",
         "0",
         "fraud_parker_nolan_and_trantow",
         "41.371826",
         "-103.963709",
         "Midwest",
         "6",
         "1",
         "11",
         "morning_6-12",
         "78",
         "senior",
         "Unknown",
         "urban",
         "85.98978144340612",
         "103.78055555555555",
         "Management",
         "4.80582269946677",
         "4.6518682160805005",
         "8.957510510291613"
        ]
       ],
       "shape": {
        "columns": 37,
        "rows": 5
       }
      },
      "text/html": [
       "<div>\n",
       "<style scoped>\n",
       "    .dataframe tbody tr th:only-of-type {\n",
       "        vertical-align: middle;\n",
       "    }\n",
       "\n",
       "    .dataframe tbody tr th {\n",
       "        vertical-align: top;\n",
       "    }\n",
       "\n",
       "    .dataframe thead th {\n",
       "        text-align: right;\n",
       "    }\n",
       "</style>\n",
       "<table border=\"1\" class=\"dataframe\">\n",
       "  <thead>\n",
       "    <tr style=\"text-align: right;\">\n",
       "      <th></th>\n",
       "      <th>cc_num</th>\n",
       "      <th>gender</th>\n",
       "      <th>city</th>\n",
       "      <th>state</th>\n",
       "      <th>zip</th>\n",
       "      <th>lat</th>\n",
       "      <th>long</th>\n",
       "      <th>city_pop</th>\n",
       "      <th>job</th>\n",
       "      <th>dob</th>\n",
       "      <th>...</th>\n",
       "      <th>age</th>\n",
       "      <th>age_group</th>\n",
       "      <th>cc_type</th>\n",
       "      <th>area_cat</th>\n",
       "      <th>distance</th>\n",
       "      <th>time_since_last_trans</th>\n",
       "      <th>job_cat</th>\n",
       "      <th>log_amt</th>\n",
       "      <th>log_time_since_last_trans</th>\n",
       "      <th>log_city_pop</th>\n",
       "    </tr>\n",
       "  </thead>\n",
       "  <tbody>\n",
       "    <tr>\n",
       "      <th>38655</th>\n",
       "      <td>3510694985435665</td>\n",
       "      <td>0</td>\n",
       "      <td>sidney</td>\n",
       "      <td>NE</td>\n",
       "      <td>69162</td>\n",
       "      <td>41.138</td>\n",
       "      <td>-102.9856</td>\n",
       "      <td>7765</td>\n",
       "      <td>energy_manager</td>\n",
       "      <td>1941-05-26</td>\n",
       "      <td>...</td>\n",
       "      <td>78</td>\n",
       "      <td>senior</td>\n",
       "      <td>Unknown</td>\n",
       "      <td>urban</td>\n",
       "      <td>72.926922</td>\n",
       "      <td>0.000000</td>\n",
       "      <td>Management</td>\n",
       "      <td>1.144223</td>\n",
       "      <td>0.000000</td>\n",
       "      <td>8.957511</td>\n",
       "    </tr>\n",
       "    <tr>\n",
       "      <th>75696</th>\n",
       "      <td>3510694985435665</td>\n",
       "      <td>0</td>\n",
       "      <td>sidney</td>\n",
       "      <td>NE</td>\n",
       "      <td>69162</td>\n",
       "      <td>41.138</td>\n",
       "      <td>-102.9856</td>\n",
       "      <td>7765</td>\n",
       "      <td>energy_manager</td>\n",
       "      <td>1941-05-26</td>\n",
       "      <td>...</td>\n",
       "      <td>78</td>\n",
       "      <td>senior</td>\n",
       "      <td>Unknown</td>\n",
       "      <td>urban</td>\n",
       "      <td>125.293370</td>\n",
       "      <td>71.123889</td>\n",
       "      <td>Management</td>\n",
       "      <td>2.220290</td>\n",
       "      <td>4.278385</td>\n",
       "      <td>8.957511</td>\n",
       "    </tr>\n",
       "    <tr>\n",
       "      <th>32552</th>\n",
       "      <td>3510694985435665</td>\n",
       "      <td>0</td>\n",
       "      <td>sidney</td>\n",
       "      <td>NE</td>\n",
       "      <td>69162</td>\n",
       "      <td>41.138</td>\n",
       "      <td>-102.9856</td>\n",
       "      <td>7765</td>\n",
       "      <td>energy_manager</td>\n",
       "      <td>1941-05-26</td>\n",
       "      <td>...</td>\n",
       "      <td>78</td>\n",
       "      <td>senior</td>\n",
       "      <td>Unknown</td>\n",
       "      <td>urban</td>\n",
       "      <td>83.186257</td>\n",
       "      <td>0.829444</td>\n",
       "      <td>Management</td>\n",
       "      <td>1.324419</td>\n",
       "      <td>0.604012</td>\n",
       "      <td>8.957511</td>\n",
       "    </tr>\n",
       "    <tr>\n",
       "      <th>93986</th>\n",
       "      <td>3510694985435665</td>\n",
       "      <td>0</td>\n",
       "      <td>sidney</td>\n",
       "      <td>NE</td>\n",
       "      <td>69162</td>\n",
       "      <td>41.138</td>\n",
       "      <td>-102.9856</td>\n",
       "      <td>7765</td>\n",
       "      <td>energy_manager</td>\n",
       "      <td>1941-05-26</td>\n",
       "      <td>...</td>\n",
       "      <td>78</td>\n",
       "      <td>senior</td>\n",
       "      <td>Unknown</td>\n",
       "      <td>urban</td>\n",
       "      <td>49.663956</td>\n",
       "      <td>164.173333</td>\n",
       "      <td>Management</td>\n",
       "      <td>1.029619</td>\n",
       "      <td>5.106995</td>\n",
       "      <td>8.957511</td>\n",
       "    </tr>\n",
       "    <tr>\n",
       "      <th>70538</th>\n",
       "      <td>3510694985435665</td>\n",
       "      <td>0</td>\n",
       "      <td>sidney</td>\n",
       "      <td>NE</td>\n",
       "      <td>69162</td>\n",
       "      <td>41.138</td>\n",
       "      <td>-102.9856</td>\n",
       "      <td>7765</td>\n",
       "      <td>energy_manager</td>\n",
       "      <td>1941-05-26</td>\n",
       "      <td>...</td>\n",
       "      <td>78</td>\n",
       "      <td>senior</td>\n",
       "      <td>Unknown</td>\n",
       "      <td>urban</td>\n",
       "      <td>85.989781</td>\n",
       "      <td>103.780556</td>\n",
       "      <td>Management</td>\n",
       "      <td>4.805823</td>\n",
       "      <td>4.651868</td>\n",
       "      <td>8.957511</td>\n",
       "    </tr>\n",
       "  </tbody>\n",
       "</table>\n",
       "<p>5 rows × 37 columns</p>\n",
       "</div>"
      ],
      "text/plain": [
       "                 cc_num  gender    city state    zip     lat      long  \\\n",
       "38655  3510694985435665       0  sidney    NE  69162  41.138 -102.9856   \n",
       "75696  3510694985435665       0  sidney    NE  69162  41.138 -102.9856   \n",
       "32552  3510694985435665       0  sidney    NE  69162  41.138 -102.9856   \n",
       "93986  3510694985435665       0  sidney    NE  69162  41.138 -102.9856   \n",
       "70538  3510694985435665       0  sidney    NE  69162  41.138 -102.9856   \n",
       "\n",
       "       city_pop             job        dob  ...  age age_group  cc_type  \\\n",
       "38655      7765  energy_manager 1941-05-26  ...   78    senior  Unknown   \n",
       "75696      7765  energy_manager 1941-05-26  ...   78    senior  Unknown   \n",
       "32552      7765  energy_manager 1941-05-26  ...   78    senior  Unknown   \n",
       "93986      7765  energy_manager 1941-05-26  ...   78    senior  Unknown   \n",
       "70538      7765  energy_manager 1941-05-26  ...   78    senior  Unknown   \n",
       "\n",
       "      area_cat    distance  time_since_last_trans     job_cat   log_amt  \\\n",
       "38655    urban   72.926922               0.000000  Management  1.144223   \n",
       "75696    urban  125.293370              71.123889  Management  2.220290   \n",
       "32552    urban   83.186257               0.829444  Management  1.324419   \n",
       "93986    urban   49.663956             164.173333  Management  1.029619   \n",
       "70538    urban   85.989781             103.780556  Management  4.805823   \n",
       "\n",
       "       log_time_since_last_trans log_city_pop  \n",
       "38655                   0.000000     8.957511  \n",
       "75696                   4.278385     8.957511  \n",
       "32552                   0.604012     8.957511  \n",
       "93986                   5.106995     8.957511  \n",
       "70538                   4.651868     8.957511  \n",
       "\n",
       "[5 rows x 37 columns]"
      ]
     },
     "execution_count": 7,
     "metadata": {},
     "output_type": "execute_result"
    }
   ],
   "source": [
    "\n",
    "print(df_BASE.info())\n",
    "\n",
    "df_BASE.head()\n"
   ]
  },
  {
   "cell_type": "code",
   "execution_count": 10,
   "metadata": {},
   "outputs": [
    {
     "data": {
      "text/plain": [
       "Index(['cc_num', 'gender', 'city', 'state', 'zip', 'lat', 'long', 'city_pop',\n",
       "       'job', 'dob', 'acct_num', 'profile', 'trans_num', 'trans_date',\n",
       "       'trans_time', 'unix_time', 'category', 'amt', 'is_fraud', 'merchant',\n",
       "       'merch_lat', 'merch_long', 'region', 'trans_day_of_week', 'is_weekend',\n",
       "       'trans_hour', 'trans_time_segment', 'age', 'age_group', 'cc_type',\n",
       "       'area_cat', 'distance', 'time_since_last_trans', 'job_cat', 'log_amt',\n",
       "       'log_time_since_last_trans', 'log_city_pop'],\n",
       "      dtype='object')"
      ]
     },
     "execution_count": 10,
     "metadata": {},
     "output_type": "execute_result"
    }
   ],
   "source": [
    "df_BASE.columns"
   ]
  },
  {
   "cell_type": "code",
   "execution_count": 16,
   "metadata": {},
   "outputs": [
    {
     "name": "stderr",
     "output_type": "stream",
     "text": [
      "c:\\Users\\DCervin\\.conda\\envs\\ds18_ml-proj1\\lib\\site-packages\\sklearn\\base.py:474: FutureWarning: `BaseEstimator._validate_data` is deprecated in 1.6 and will be removed in 1.7. Use `sklearn.utils.validation.validate_data` instead. This function becomes public and is part of the scikit-learn developer API.\n",
      "  warnings.warn(\n"
     ]
    },
    {
     "name": "stdout",
     "output_type": "stream",
     "text": [
      "Classification Report:\n",
      "               precision    recall  f1-score   support\n",
      "\n",
      "           0       1.00      1.00      1.00     19942\n",
      "           1       0.98      0.71      0.82        58\n",
      "\n",
      "    accuracy                           1.00     20000\n",
      "   macro avg       0.99      0.85      0.91     20000\n",
      "weighted avg       1.00      1.00      1.00     20000\n",
      "\n",
      "Confusion Matrix:\n",
      " [[19941     1]\n",
      " [   17    41]]\n",
      "ROC AUC Score: 0.9899\n"
     ]
    },
    {
     "data": {
      "image/png": "[encoded data removed]",
      "text/plain": [
       "<Figure size 640x480 with 1 Axes>"
      ]
     },
     "metadata": {},
     "output_type": "display_data"
    }
   ],
   "source": [
    "\n",
    "\n",
    "# Log transform skewed columns\n",
    "#df['log_amt'] = np.log1p(df['amt'])\n",
    "#df['log_city_pop'] = np.log1p(df['city_pop'])\n",
    "#df['log_time_since_last_trans'] = np.log1p(df['time_since_last_trans'])\n",
    "\n",
    "# Encode categorical variables\n",
    "df_encoded = df_BASE.copy()\n",
    "categorical_cols = df_BASE.select_dtypes(include='object').columns\n",
    "label_encoders = {}\n",
    "\n",
    "for col in categorical_cols:\n",
    "    le = LabelEncoder()\n",
    "    df_encoded[col] = le.fit_transform(df_encoded[col].astype(str))\n",
    "    label_encoders[col] = le\n",
    "\n",
    "# Prepare data\n",
    "X = df_encoded.drop(columns=['is_fraud', 'cc_num', 'acct_num', 'trans_num', \n",
    "    'profile', 'trans_date', 'trans_time', 'dob'])\n",
    "y = df_encoded['is_fraud']\n",
    "\n",
    "# Split dataset\n",
    "X_train, X_test, y_train, y_test = train_test_split(\n",
    "    X, y, stratify=y, test_size=0.2, random_state=42\n",
    ")\n",
    "\n",
    "# Apply SMOTE\n",
    "smote = SMOTE(random_state=42)\n",
    "X_resampled, y_resampled = smote.fit_resample(X_train, y_train)\n",
    "\n",
    "# Train Random Forest\n",
    "rf = RandomForestClassifier(n_estimators=100, random_state=42)\n",
    "rf.fit(X_resampled, y_resampled)\n",
    "\n",
    "# Predict\n",
    "y_pred = rf.predict(X_test)\n",
    "y_proba = rf.predict_proba(X_test)[:, 1]\n",
    "\n",
    "# Evaluate\n",
    "print(\"Classification Report:\\n\", classification_report(y_test, y_pred))\n",
    "print(\"Confusion Matrix:\\n\", confusion_matrix(y_test, y_pred))\n",
    "print(f\"ROC AUC Score: {roc_auc_score(y_test, y_proba):.4f}\")\n",
    "\n",
    "# ROC Curve\n",
    "RocCurveDisplay.from_estimator(rf, X_test, y_test)\n",
    "plt.title(\"Random Forest ROC Curve\")\n",
    "plt.tight_layout()\n",
    "plt.show()"
   ]
  }
 ],
 "metadata": {
  "kernelspec": {
   "display_name": "ds18_ml-proj1",
   "language": "python",
   "name": "python3"
  },
  "language_info": {
   "codemirror_mode": {
    "name": "ipython",
    "version": 3
   },
   "file_extension": ".py",
   "mimetype": "text/x-python",
   "name": "python",
   "nbconvert_exporter": "python",
   "pygments_lexer": "ipython3",
   "version": "3.9.21"
  }
 },
 "nbformat": 4,
 "nbformat_minor": 2
}
