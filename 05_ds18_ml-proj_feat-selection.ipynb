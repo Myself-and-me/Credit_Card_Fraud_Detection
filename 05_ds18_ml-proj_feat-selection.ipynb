{
 "cells": [
  {
   "cell_type": "code",
   "execution_count": 1,
   "metadata": {},
   "outputs": [],
   "source": [
    "import pandas as pd\n",
    "import numpy as np\n",
    "import matplotlib.pyplot as plt\n",
    "import seaborn as sns\n",
    "import random\n",
    "import dask.dataframe as dd\n",
    "from geopy.distance import geodesic\n",
    "import string\n",
    "from scipy.stats import chi2_contingency\n",
    "from scipy.stats import ttest_ind, skew\n",
    "\n",
    "from sklearn.ensemble import RandomForestClassifier\n",
    "from sklearn.preprocessing import LabelEncoder\n",
    "from sklearn.model_selection import train_test_split\n",
    "\n",
    "import warnings\n",
    "warnings.filterwarnings('ignore')\n",
    "%matplotlib inline"
   ]
  },
  {
   "cell_type": "markdown",
   "metadata": {},
   "source": [
    "**🧠 Feature Selection Overview**\n",
    "\n",
    "With a wide range of raw, engineered, and encoded features now available, the next critical step is **Feature Selection** — identifying which variables are truly valuable for predicting fraudulent transactions.\n",
    "\n",
    "This stage helps to:\n",
    "\n",
    "- Remove noisy or redundant features\n",
    "- Improve model performance and interpretability\n",
    "- Reduce training time and risk of overfitting\n",
    "\n",
    "We’ll apply statistical tests and model-based techniques to rank feature importance and retain only the most informative predictors for the final fraud detection model.\n"
   ]
  },
  {
   "cell_type": "code",
   "execution_count": 30,
   "metadata": {},
   "outputs": [],
   "source": [
    "dir = '../csv/'\n",
    "fname = 'sample_300k_2020'"
   ]
  },
  {
   "cell_type": "code",
   "execution_count": 4,
   "metadata": {},
   "outputs": [],
   "source": [
    "df_BASE = pd.read_pickle(fname + '_feat_eng_pruned.pkl')"
   ]
  },
  {
   "cell_type": "code",
   "execution_count": 8,
   "metadata": {},
   "outputs": [],
   "source": [
    "df_sampled = df_BASE.sample(15000, random_state=42)\n",
    "df_sampled = df_sampled.reset_index(drop=True)\n",
    "df_sampled.to_csv('feat_sel_15k_sampled.csv', index=False)"
   ]
  },
  {
   "cell_type": "code",
   "execution_count": 6,
   "metadata": {},
   "outputs": [
    {
     "name": "stdout",
     "output_type": "stream",
     "text": [
      "df_BASE shape: (299996, 20)\n",
      "<class 'pandas.core.frame.DataFrame'>\n",
      "Index: 299996 entries, 70705 to 127819\n",
      "Data columns (total 20 columns):\n",
      " #   Column                        Non-Null Count   Dtype  \n",
      "---  ------                        --------------   -----  \n",
      " 0   gender                        299996 non-null  object \n",
      " 1   unix_time                     299996 non-null  int32  \n",
      " 2   category                      299996 non-null  int32  \n",
      " 3   is_fraud                      299996 non-null  int32  \n",
      " 4   region                        299996 non-null  object \n",
      " 5   trans_day_of_week             299996 non-null  int32  \n",
      " 6   is_weekend                    299996 non-null  int32  \n",
      " 7   trans_hour                    299996 non-null  int32  \n",
      " 8   trans_time_segment            299996 non-null  object \n",
      " 9   age_group                     299996 non-null  int32  \n",
      " 10  cc_type                       299996 non-null  object \n",
      " 11  area_cat                      299996 non-null  int32  \n",
      " 12  distance                      299996 non-null  float64\n",
      " 13  job_cat                       299996 non-null  object \n",
      " 14  log_amt                       299996 non-null  float64\n",
      " 15  log_time_since_last_trans     299996 non-null  float64\n",
      " 16  log_city_pop                  299996 non-null  float64\n",
      " 17  trans_hour_x_is_weekend       299996 non-null  object \n",
      " 18  category_x_trans_day_of_week  299996 non-null  object \n",
      " 19  age_group_x_category          299996 non-null  object \n",
      "dtypes: float64(4), int32(8), object(8)\n",
      "memory usage: 38.9+ MB\n",
      "None\n"
     ]
    }
   ],
   "source": [
    "print('df_BASE shape: ' + str(df_BASE.shape))\n",
    "print(df_BASE.info())"
   ]
  },
  {
   "cell_type": "code",
   "execution_count": 7,
   "metadata": {},
   "outputs": [],
   "source": [
    "df_feat_sel = df_BASE.copy()"
   ]
  },
  {
   "cell_type": "code",
   "execution_count": 15,
   "metadata": {},
   "outputs": [
    {
     "data": {
      "text/plain": [
       "gender                               2\n",
       "unix_time                       296925\n",
       "category                            14\n",
       "is_fraud                             2\n",
       "region                               4\n",
       "trans_day_of_week                    7\n",
       "is_weekend                           2\n",
       "trans_hour                          24\n",
       "trans_time_segment                   4\n",
       "age_group                            6\n",
       "cc_type                              8\n",
       "area_cat                             2\n",
       "distance                        299996\n",
       "job_cat                             17\n",
       "log_amt                          30441\n",
       "log_time_since_last_trans       265016\n",
       "log_city_pop                      5880\n",
       "trans_hour_x_is_weekend             48\n",
       "category_x_trans_day_of_week        97\n",
       "age_group_x_category                80\n",
       "dtype: int64"
      ]
     },
     "execution_count": 15,
     "metadata": {},
     "output_type": "execute_result"
    }
   ],
   "source": [
    "df_feat_sel.nunique()"
   ]
  },
  {
   "cell_type": "markdown",
   "metadata": {},
   "source": [
    "*Encode string features* - required for the feature selection process"
   ]
  },
  {
   "cell_type": "code",
   "execution_count": null,
   "metadata": {},
   "outputs": [
    {
     "name": "stdout",
     "output_type": "stream",
     "text": [
      "['gender', 'region', 'trans_time_segment', 'cc_type', 'job_cat', 'trans_hour_x_is_weekend', 'category_x_trans_day_of_week', 'age_group_x_category']\n"
     ]
    },
    {
     "data": {
      "text/plain": [
       "gender                           2\n",
       "region                           4\n",
       "trans_time_segment               4\n",
       "cc_type                          8\n",
       "job_cat                         17\n",
       "trans_hour_x_is_weekend         48\n",
       "category_x_trans_day_of_week    97\n",
       "age_group_x_category            80\n",
       "dtype: int64"
      ]
     },
     "execution_count": 19,
     "metadata": {},
     "output_type": "execute_result"
    }
   ],
   "source": [
    "df_encoded = df_feat_sel.copy()\n",
    "# Identify string (object) columns\n",
    "string_cols = df_encoded.select_dtypes(include='object').columns.tolist()\n",
    "print(string_cols)\n",
    "df_encoded[string_cols].nunique()"
   ]
  },
  {
   "cell_type": "code",
   "execution_count": 21,
   "metadata": {},
   "outputs": [
    {
     "name": "stdout",
     "output_type": "stream",
     "text": [
      "<class 'pandas.core.frame.DataFrame'>\n",
      "Index: 299996 entries, 70705 to 127819\n",
      "Data columns (total 20 columns):\n",
      " #   Column                        Non-Null Count   Dtype  \n",
      "---  ------                        --------------   -----  \n",
      " 0   gender                        299996 non-null  int64  \n",
      " 1   unix_time                     299996 non-null  int32  \n",
      " 2   category                      299996 non-null  int32  \n",
      " 3   is_fraud                      299996 non-null  int32  \n",
      " 4   region                        299996 non-null  int64  \n",
      " 5   trans_day_of_week             299996 non-null  int32  \n",
      " 6   is_weekend                    299996 non-null  int32  \n",
      " 7   trans_hour                    299996 non-null  int32  \n",
      " 8   trans_time_segment            299996 non-null  int64  \n",
      " 9   age_group                     299996 non-null  int32  \n",
      " 10  cc_type                       299996 non-null  int64  \n",
      " 11  area_cat                      299996 non-null  int32  \n",
      " 12  distance                      299996 non-null  float64\n",
      " 13  job_cat                       299996 non-null  int64  \n",
      " 14  log_amt                       299996 non-null  float64\n",
      " 15  log_time_since_last_trans     299996 non-null  float64\n",
      " 16  log_city_pop                  299996 non-null  float64\n",
      " 17  trans_hour_x_is_weekend       299996 non-null  int64  \n",
      " 18  category_x_trans_day_of_week  299996 non-null  int64  \n",
      " 19  age_group_x_category          299996 non-null  int64  \n",
      "dtypes: float64(4), int32(8), int64(8)\n",
      "memory usage: 38.9 MB\n"
     ]
    },
    {
     "data": {
      "application/vnd.microsoft.datawrangler.viewer.v0+json": {
       "columns": [
        {
         "name": "index",
         "rawType": "int64",
         "type": "integer"
        },
        {
         "name": "gender",
         "rawType": "int64",
         "type": "integer"
        },
        {
         "name": "region",
         "rawType": "int64",
         "type": "integer"
        },
        {
         "name": "trans_time_segment",
         "rawType": "int64",
         "type": "integer"
        },
        {
         "name": "cc_type",
         "rawType": "int64",
         "type": "integer"
        },
        {
         "name": "job_cat",
         "rawType": "int64",
         "type": "integer"
        },
        {
         "name": "trans_hour_x_is_weekend",
         "rawType": "int64",
         "type": "integer"
        },
        {
         "name": "category_x_trans_day_of_week",
         "rawType": "int64",
         "type": "integer"
        },
        {
         "name": "age_group_x_category",
         "rawType": "int64",
         "type": "integer"
        }
       ],
       "conversionMethod": "pd.DataFrame",
       "ref": "991ab87c-06cd-4972-a7fc-ce35ab0aa436",
       "rows": [
        [
         "70705",
         "0",
         "0",
         "1",
         "6",
         "10",
         "28",
         "55",
         "47"
        ],
        [
         "69722",
         "0",
         "0",
         "2",
         "6",
         "10",
         "34",
         "4",
         "39"
        ],
        [
         "69411",
         "0",
         "0",
         "2",
         "6",
         "10",
         "33",
         "40",
         "40"
        ],
        [
         "70857",
         "0",
         "0",
         "0",
         "6",
         "10",
         "14",
         "65",
         "48"
        ],
        [
         "69729",
         "0",
         "0",
         "1",
         "6",
         "10",
         "20",
         "65",
         "48"
        ]
       ],
       "shape": {
        "columns": 8,
        "rows": 5
       }
      },
      "text/html": [
       "<div>\n",
       "<style scoped>\n",
       "    .dataframe tbody tr th:only-of-type {\n",
       "        vertical-align: middle;\n",
       "    }\n",
       "\n",
       "    .dataframe tbody tr th {\n",
       "        vertical-align: top;\n",
       "    }\n",
       "\n",
       "    .dataframe thead th {\n",
       "        text-align: right;\n",
       "    }\n",
       "</style>\n",
       "<table border=\"1\" class=\"dataframe\">\n",
       "  <thead>\n",
       "    <tr style=\"text-align: right;\">\n",
       "      <th></th>\n",
       "      <th>gender</th>\n",
       "      <th>region</th>\n",
       "      <th>trans_time_segment</th>\n",
       "      <th>cc_type</th>\n",
       "      <th>job_cat</th>\n",
       "      <th>trans_hour_x_is_weekend</th>\n",
       "      <th>category_x_trans_day_of_week</th>\n",
       "      <th>age_group_x_category</th>\n",
       "    </tr>\n",
       "  </thead>\n",
       "  <tbody>\n",
       "    <tr>\n",
       "      <th>70705</th>\n",
       "      <td>0</td>\n",
       "      <td>0</td>\n",
       "      <td>1</td>\n",
       "      <td>6</td>\n",
       "      <td>10</td>\n",
       "      <td>28</td>\n",
       "      <td>55</td>\n",
       "      <td>47</td>\n",
       "    </tr>\n",
       "    <tr>\n",
       "      <th>69722</th>\n",
       "      <td>0</td>\n",
       "      <td>0</td>\n",
       "      <td>2</td>\n",
       "      <td>6</td>\n",
       "      <td>10</td>\n",
       "      <td>34</td>\n",
       "      <td>4</td>\n",
       "      <td>39</td>\n",
       "    </tr>\n",
       "    <tr>\n",
       "      <th>69411</th>\n",
       "      <td>0</td>\n",
       "      <td>0</td>\n",
       "      <td>2</td>\n",
       "      <td>6</td>\n",
       "      <td>10</td>\n",
       "      <td>33</td>\n",
       "      <td>40</td>\n",
       "      <td>40</td>\n",
       "    </tr>\n",
       "    <tr>\n",
       "      <th>70857</th>\n",
       "      <td>0</td>\n",
       "      <td>0</td>\n",
       "      <td>0</td>\n",
       "      <td>6</td>\n",
       "      <td>10</td>\n",
       "      <td>14</td>\n",
       "      <td>65</td>\n",
       "      <td>48</td>\n",
       "    </tr>\n",
       "    <tr>\n",
       "      <th>69729</th>\n",
       "      <td>0</td>\n",
       "      <td>0</td>\n",
       "      <td>1</td>\n",
       "      <td>6</td>\n",
       "      <td>10</td>\n",
       "      <td>20</td>\n",
       "      <td>65</td>\n",
       "      <td>48</td>\n",
       "    </tr>\n",
       "  </tbody>\n",
       "</table>\n",
       "</div>"
      ],
      "text/plain": [
       "       gender  region  trans_time_segment  cc_type  job_cat  \\\n",
       "70705       0       0                   1        6       10   \n",
       "69722       0       0                   2        6       10   \n",
       "69411       0       0                   2        6       10   \n",
       "70857       0       0                   0        6       10   \n",
       "69729       0       0                   1        6       10   \n",
       "\n",
       "       trans_hour_x_is_weekend  category_x_trans_day_of_week  \\\n",
       "70705                       28                            55   \n",
       "69722                       34                             4   \n",
       "69411                       33                            40   \n",
       "70857                       14                            65   \n",
       "69729                       20                            65   \n",
       "\n",
       "       age_group_x_category  \n",
       "70705                    47  \n",
       "69722                    39  \n",
       "69411                    40  \n",
       "70857                    48  \n",
       "69729                    48  "
      ]
     },
     "execution_count": 21,
     "metadata": {},
     "output_type": "execute_result"
    }
   ],
   "source": [
    "# Apply Label Encoding to string columns\n",
    "label_encoders = {}\n",
    "\n",
    "for col in string_cols:\n",
    "    le = LabelEncoder()\n",
    "    df_encoded[col] = le.fit_transform(df_encoded[col])\n",
    "    label_encoders[col] = le\n",
    "\n",
    "df_encoded.info()\n",
    "# Show encoded string columns\n",
    "df_encoded[string_cols].head()"
   ]
  },
  {
   "cell_type": "code",
   "execution_count": 22,
   "metadata": {},
   "outputs": [],
   "source": [
    "from sklearn.pipeline import Pipeline\n",
    "from sklearn.ensemble import GradientBoostingClassifier, RandomForestClassifier\n",
    "from sklearn.linear_model import Lasso\n",
    "from sklearn.feature_selection import SelectFromModel\n",
    "from sklearn.svm import LinearSVC\n",
    "from sklearn.linear_model import Ridge"
   ]
  },
  {
   "cell_type": "code",
   "execution_count": 23,
   "metadata": {},
   "outputs": [],
   "source": [
    "y=df_encoded['is_fraud']\n",
    "X = df_encoded.drop(columns=['is_fraud'])"
   ]
  },
  {
   "cell_type": "code",
   "execution_count": 26,
   "metadata": {},
   "outputs": [
    {
     "name": "stdout",
     "output_type": "stream",
     "text": [
      "                         Feature  Lasso  SVM  GradientBoost  RandomForest  \\\n",
      "2                       category      1    1              1             1   \n",
      "17  category_x_trans_day_of_week      1    1              1             1   \n",
      "16       trans_hour_x_is_weekend      1    1              1             1   \n",
      "6                     trans_hour      1    1              1             1   \n",
      "13                       log_amt      1    1              1             1   \n",
      "1                      unix_time      1    1              1             1   \n",
      "9                        cc_type      0    1              1             1   \n",
      "11                      distance      0    1              1             1   \n",
      "15                  log_city_pop      0    1              1             1   \n",
      "14     log_time_since_last_trans      0    1              1             1   \n",
      "12                       job_cat      0    1              1             1   \n",
      "18          age_group_x_category      0    1              1             1   \n",
      "7             trans_time_segment      0    1              1             1   \n",
      "3                         region      0    1              1             1   \n",
      "8                      age_group      0    1              0             1   \n",
      "4              trans_day_of_week      0    1              0             1   \n",
      "0                         gender      0    0              1             1   \n",
      "10                      area_cat      0    0              0             1   \n",
      "5                     is_weekend      0    0              0             1   \n",
      "\n",
      "    Ridge  Sum  \n",
      "2       1    5  \n",
      "17      1    5  \n",
      "16      1    5  \n",
      "6       1    5  \n",
      "13      1    5  \n",
      "1       1    5  \n",
      "9       1    4  \n",
      "11      1    4  \n",
      "15      1    4  \n",
      "14      1    4  \n",
      "12      1    4  \n",
      "18      1    4  \n",
      "7       1    4  \n",
      "3       1    4  \n",
      "8       1    3  \n",
      "4       1    3  \n",
      "0       1    3  \n",
      "10      1    2  \n",
      "5       1    2  \n"
     ]
    }
   ],
   "source": [
    "\n",
    "#Fit models and determine if a feature is selected (1) or not (0)\n",
    "lasso = Lasso(alpha=0.01).fit(X, y)\n",
    "lasso_selected = (np.abs(lasso.coef_) > 0).astype(int)\n",
    "\n",
    "#Fit Ridge model\n",
    "ridge = Ridge(alpha=0.01).fit(X, y)\n",
    "ridge_selected = (np.abs(ridge.coef_) > 0).astype(int)\n",
    "\n",
    "svm = LinearSVC(C=0.01, penalty=\"l1\", dual=False).fit(X, y)\n",
    "svm_selected = (np.abs(svm.coef_[0]) > 0).astype(int)\n",
    "\n",
    "gb = GradientBoostingClassifier().fit(X, y)\n",
    "gb_selected = (gb.feature_importances_ > 0).astype(int)\n",
    "\n",
    "rf = RandomForestClassifier().fit(X, y)\n",
    "rf_selected = (rf.feature_importances_ > 0).astype(int)\n",
    "\n",
    "# Create a DataFrame to store results\n",
    "selection_df = pd.DataFrame({\n",
    "    'Feature': X.columns,\n",
    "    'Lasso': lasso_selected, \n",
    "    'SVM': svm_selected,\n",
    "    'GradientBoost': gb_selected,\n",
    "    'RandomForest': rf_selected,\n",
    "    'Ridge': ridge_selected\n",
    "})\n",
    "\n",
    "# Sum the number of selections for each feature\n",
    "selection_df['Sum'] = selection_df[['Lasso', 'SVM', 'GradientBoost', 'RandomForest','Ridge']].sum(axis=1)\n",
    "\n",
    "# Output the results\n",
    "print(selection_df.sort_values('Sum', ascending=False))\n"
   ]
  },
  {
   "cell_type": "code",
   "execution_count": 31,
   "metadata": {},
   "outputs": [
    {
     "name": "stdout",
     "output_type": "stream",
     "text": [
      "['unix_time', 'category', 'region', 'trans_hour', 'trans_time_segment', 'cc_type', 'distance', 'job_cat', 'log_amt', 'log_time_since_last_trans', 'log_city_pop', 'trans_hour_x_is_weekend', 'category_x_trans_day_of_week', 'age_group_x_category']\n",
      "14\n"
     ]
    }
   ],
   "source": [
    "selected_features = selection_df[selection_df['Sum'] >= 4]['Feature'].tolist()\n",
    "print(selected_features)\n",
    "print(len(selected_features))\n",
    "\n",
    "#not including 'is_fraud' column\n",
    "#['unix_time', 'category', 'region', 'trans_hour', 'trans_time_segment', 'cc_type', 'distance', 'job_cat', 'log_amt', 'log_time_since_last_trans', 'log_city_pop', 'trans_hour_x_is_weekend', 'category_x_trans_day_of_week', 'age_group_x_category']"
   ]
  },
  {
   "cell_type": "markdown",
   "metadata": {},
   "source": [
    "**🧠 Feature Selection Consensus Across Models**\n",
    "\n",
    "We compared feature importance across five different models — **Lasso**, **Linear SVM**, **Gradient Boosting**, **Random Forest**, and **Ridge** — using binary indicators (`1` = selected, `0` = not selected). The goal is to identify features that are consistently valuable for fraud prediction.\n",
    "\n",
    "---\n",
    "\n",
    "**🏆 Universally Selected Features (5/5 Models)**  \n",
    "These features were selected by **all five models**, indicating **high and stable predictive power**:\n",
    "\n",
    "- `category`\n",
    "- `category_x_trans_day_of_week`\n",
    "- `trans_hour_x_is_weekend`\n",
    "- `trans_hour`\n",
    "- `log_amt`\n",
    "- `unix_time`\n",
    "\n",
    "✅ These are strong candidates for core features in the final model.\n",
    "\n",
    "---\n",
    "\n",
    "**🔶 Strong Features (Selected by 4 Models)**  \n",
    "Selected by **4/5 models**, these features also show reliable importance:\n",
    "\n",
    "- `cc_type`\n",
    "- `distance`\n",
    "- `log_city_pop`\n",
    "- `log_time_since_last_trans`\n",
    "- `job_cat`\n",
    "- `age_group_x_category`\n",
    "- `trans_time_segment`\n",
    "- `region`\n",
    "\n",
    "➡️ These should be retained and explored further during modeling.\n",
    "\n",
    "---\n",
    "\n",
    "**⚖️ Moderately Important (Selected by 3 Models)**  \n",
    "- `age_group`\n",
    "- `trans_day_of_week`\n",
    "- `gender`\n",
    "\n",
    "🔍 May add value depending on the model type or in combination with other features.\n",
    "\n",
    "---\n",
    "\n",
    "**📉 Lower Agreement (Selected by 2 Models)**  \n",
    "- `area_cat`\n",
    "- `is_weekend`\n",
    "\n",
    "These features show lower consensus and may have **marginal standalone value**, but could still be useful in interactions or for specific fraud patterns.\n",
    "\n",
    "---\n",
    "\n",
    "**✅ Conclusion**\n",
    "\n",
    "- Focus your core feature set around features selected with a **selection concensus by equal or more than 4 models**.\n",
    "- Retain the next-tier predictors for further experimentation or model-specific tuning.\n"
   ]
  },
  {
   "cell_type": "code",
   "execution_count": 32,
   "metadata": {},
   "outputs": [
    {
     "name": "stdout",
     "output_type": "stream",
     "text": [
      "<class 'pandas.core.frame.DataFrame'>\n",
      "Index: 299996 entries, 70705 to 127819\n",
      "Data columns (total 20 columns):\n",
      " #   Column                        Non-Null Count   Dtype  \n",
      "---  ------                        --------------   -----  \n",
      " 0   gender                        299996 non-null  int64  \n",
      " 1   unix_time                     299996 non-null  int32  \n",
      " 2   category                      299996 non-null  int32  \n",
      " 3   is_fraud                      299996 non-null  int32  \n",
      " 4   region                        299996 non-null  int64  \n",
      " 5   trans_day_of_week             299996 non-null  int32  \n",
      " 6   is_weekend                    299996 non-null  int32  \n",
      " 7   trans_hour                    299996 non-null  int32  \n",
      " 8   trans_time_segment            299996 non-null  int64  \n",
      " 9   age_group                     299996 non-null  int32  \n",
      " 10  cc_type                       299996 non-null  int64  \n",
      " 11  area_cat                      299996 non-null  int32  \n",
      " 12  distance                      299996 non-null  float64\n",
      " 13  job_cat                       299996 non-null  int64  \n",
      " 14  log_amt                       299996 non-null  float64\n",
      " 15  log_time_since_last_trans     299996 non-null  float64\n",
      " 16  log_city_pop                  299996 non-null  float64\n",
      " 17  trans_hour_x_is_weekend       299996 non-null  int64  \n",
      " 18  category_x_trans_day_of_week  299996 non-null  int64  \n",
      " 19  age_group_x_category          299996 non-null  int64  \n",
      "dtypes: float64(4), int32(8), int64(8)\n",
      "memory usage: 38.9 MB\n"
     ]
    }
   ],
   "source": [
    "df_encoded.info()"
   ]
  },
  {
   "cell_type": "markdown",
   "metadata": {},
   "source": [
    "**📦 Find Columns suitable for One-Hot Encoding**\n",
    "\n",
    "no need, "
   ]
  },
  {
   "cell_type": "code",
   "execution_count": 47,
   "metadata": {},
   "outputs": [],
   "source": [
    "# Identify object columns with low cardinality suitable for one-hot encoding\n",
    "def identify_1hot_candidates(df):\n",
    "    one_hot_candidates = [\n",
    "        col for col in df.columns\n",
    "        if df[col].dtype == 'object' and df[col].nunique() <= 10\n",
    "    ]\n",
    "\n",
    "    # Create a summary of these columns with their unique value counts\n",
    "    one_hot_summary = {\n",
    "        'column': one_hot_candidates,\n",
    "        'unique_values': [df[col].nunique() for col in one_hot_candidates]\n",
    "    }\n",
    "\n",
    "    print(pd.DataFrame(one_hot_summary).sort_values(by='unique_values', ascending=False))\n",
    "    \n",
    "    return one_hot_candidates"
   ]
  },
  {
   "cell_type": "markdown",
   "metadata": {},
   "source": [
    "**📦 Found Columns suitable for One-Hot Encoding**\n",
    "\n",
    "These categorical features have a small number of unique values and are ideal candidates for one-hot encoding:\n",
    "\n",
    "| Column               | Unique Values |\n",
    "|----------------------|----------------|\n",
    "| `cc_type`            | 8              |\n",
    "| `region`             | 4              |\n",
    "| `trans_time_segment` | 4              |\n",
    "| `gender`             | 2              |\n"
   ]
  },
  {
   "cell_type": "code",
   "execution_count": null,
   "metadata": {},
   "outputs": [],
   "source": []
  },
  {
   "cell_type": "code",
   "execution_count": null,
   "metadata": {},
   "outputs": [],
   "source": [
    "def one_hot_encode(df, cols):\n",
    "    return pd.get_dummies(df, columns=cols, drop_first=False)\n",
    "    # Perform one-hot encoding \n",
    "    #df_feat_eng = pd.get_dummies(df_feat_eng, columns=one_hot_candidates, drop_first=true)\n",
    "    #df_feat_eng.head()"
   ]
  },
  {
   "cell_type": "code",
   "execution_count": 52,
   "metadata": {},
   "outputs": [],
   "source": [
    "df_4_model_selected_feat = df_encoded[selected_features + ['is_fraud']].copy()\n",
    "df_4_model_selected_feat.nunique()\n",
    "\n",
    "# no needfor 1hot encoding as all selected features are numerical\n",
    "#print(df_4_model_selected_feat.info())\n",
    "#one_hot_candidates = identify_1hot_candidates(df_4_model_selected_feat)\n",
    "\n",
    "df_4_model_selected_feat.to_pickle(fname + '_enc_feat_selected.pkl')\n"
   ]
  },
  {
   "cell_type": "code",
   "execution_count": 50,
   "metadata": {},
   "outputs": [
    {
     "name": "stdout",
     "output_type": "stream",
     "text": [
      "<class 'pandas.core.frame.DataFrame'>\n",
      "Index: 299996 entries, 70705 to 127819\n",
      "Data columns (total 20 columns):\n",
      " #   Column                        Non-Null Count   Dtype  \n",
      "---  ------                        --------------   -----  \n",
      " 0   gender                        299996 non-null  int64  \n",
      " 1   unix_time                     299996 non-null  int32  \n",
      " 2   category                      299996 non-null  int32  \n",
      " 3   is_fraud                      299996 non-null  int32  \n",
      " 4   region                        299996 non-null  int64  \n",
      " 5   trans_day_of_week             299996 non-null  int32  \n",
      " 6   is_weekend                    299996 non-null  int32  \n",
      " 7   trans_hour                    299996 non-null  int32  \n",
      " 8   trans_time_segment            299996 non-null  int64  \n",
      " 9   age_group                     299996 non-null  int32  \n",
      " 10  cc_type                       299996 non-null  int64  \n",
      " 11  area_cat                      299996 non-null  int32  \n",
      " 12  distance                      299996 non-null  float64\n",
      " 13  job_cat                       299996 non-null  int64  \n",
      " 14  log_amt                       299996 non-null  float64\n",
      " 15  log_time_since_last_trans     299996 non-null  float64\n",
      " 16  log_city_pop                  299996 non-null  float64\n",
      " 17  trans_hour_x_is_weekend       299996 non-null  int64  \n",
      " 18  category_x_trans_day_of_week  299996 non-null  int64  \n",
      " 19  age_group_x_category          299996 non-null  int64  \n",
      "dtypes: float64(4), int32(8), int64(8)\n",
      "memory usage: 38.9 MB\n"
     ]
    }
   ],
   "source": [
    "df_4_model_full_feat = df_encoded.copy()\n",
    "df_4_model_full_feat.info()"
   ]
  },
  {
   "cell_type": "code",
   "execution_count": null,
   "metadata": {},
   "outputs": [],
   "source": []
  }
 ],
 "metadata": {
  "kernelspec": {
   "display_name": "ds18_ml-proj1",
   "language": "python",
   "name": "python3"
  },
  "language_info": {
   "codemirror_mode": {
    "name": "ipython",
    "version": 3
   },
   "file_extension": ".py",
   "mimetype": "text/x-python",
   "name": "python",
   "nbconvert_exporter": "python",
   "pygments_lexer": "ipython3",
   "version": "3.9.21"
  }
 },
 "nbformat": 4,
 "nbformat_minor": 2
}
