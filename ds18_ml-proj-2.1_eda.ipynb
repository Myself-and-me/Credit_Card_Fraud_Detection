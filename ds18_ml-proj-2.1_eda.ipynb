{
 "cells": [
  {
   "cell_type": "code",
   "execution_count": 2,
   "metadata": {},
   "outputs": [],
   "source": [
    "import pandas as pd\n",
    "import numpy as np\n",
    "import matplotlib.pyplot as plt\n",
    "import seaborn as sns\n",
    "import random\n",
    "import dask.dataframe as dd\n",
    "from geopy.distance import geodesic\n",
    "import string\n",
    "\n",
    "import warnings\n",
    "warnings.filterwarnings('ignore')\n",
    "%matplotlib inline"
   ]
  },
  {
   "cell_type": "code",
   "execution_count": null,
   "metadata": {},
   "outputs": [],
   "source": [
    "dir = '../csv/'\n",
    "fname = 'credit_card_fraud_sample_2019_Dec_100K'"
   ]
  },
  {
   "cell_type": "code",
   "execution_count": null,
   "metadata": {},
   "outputs": [],
   "source": [
    "df_eda = pd.read_pickle(fname + '_prepared.pkl')\n",
    "df_eda.head()"
   ]
  },
  {
   "cell_type": "code",
   "execution_count": null,
   "metadata": {},
   "outputs": [],
   "source": [
    "df_eda.info()"
   ]
  },
  {
   "cell_type": "markdown",
   "metadata": {},
   "source": [
    "*Functions*"
   ]
  },
  {
   "cell_type": "code",
   "execution_count": null,
   "metadata": {},
   "outputs": [],
   "source": [
    "def plot_categorical(df_in, col, target='is_fraud', top_n=10):\n",
    "    \"\"\"\n",
    "    Plot a bar chart of the counts of the top_n categories in a column.\n",
    "    \"\"\"\n",
    "    # Get the top_n categories\n",
    "    top_n_cats = df_in[col].value_counts().head(top_n).index\n",
    "    # Create a bar plot\n",
    "    plt.figure(figsize=(10, 6))\n",
    "    sns.countplot(data=df_in, y=col, order=top_n_cats, hue=target)\n",
    "    plt.title(f'Count of {col} with Fraud')\n",
    "    plt.show()\n",
    "\n",
    "def plot_numerical(df_in, col, target='is_fraud', bins=30):\n",
    "    \"\"\"\n",
    "    Plot a histogram of a numerical column.\n",
    "    \"\"\"\n",
    "    # Create a histogram    \n",
    "    plt.figure(figsize=(10, 6))\n",
    "    sns.histplot(df_in, x=col, bins=bins, hue=target, kde=True)\n",
    "    plt.title(f'{col} Distribution with Fraud')\n",
    "    plt.show()\n",
    "\n",
    "def plot_categorical_percent(df_in, col, target='is_fraud', top_n=10):\n",
    "    \"\"\"\n",
    "    Plot a bar chart of the percentage of the top_n categories in a column.\n",
    "    \"\"\"\n",
    "    # Get the top_n categories  \n",
    "    top_n_cats = df_in[col].value_counts().head(top_n).index\n",
    "    # Create a bar plot\n",
    "    plt.figure(figsize=(10, 6))\n",
    "    (df_in[col].value_counts() / len(df_in)).head(top_n).plot(kind='bar')\n",
    "    plt.title(f'Percentage of {col}')\n",
    "    plt.show()\n",
    "\n",
    "def plot_numerical_percent(df_in, col, target='is_fraud', bins=30):\n",
    "    \"\"\"\n",
    "    Plot a histogram of a numerical column.\n",
    "    \"\"\"\n",
    "    # Create a histogram\n",
    "    plt.figure(figsize=(10, 6))\n",
    "    df_in[col].plot(kind='hist', bins=bins)\n",
    "\n",
    "    plt.title(f'{col} Distribution')\n",
    "    plt.show()\n",
    "\n"
   ]
  },
  {
   "cell_type": "markdown",
   "metadata": {},
   "source": [
    "***Descriptive***"
   ]
  },
  {
   "cell_type": "code",
   "execution_count": null,
   "metadata": {},
   "outputs": [],
   "source": [
    "df_eda.describe()"
   ]
  },
  {
   "cell_type": "code",
   "execution_count": null,
   "metadata": {},
   "outputs": [],
   "source": [
    "df_eda['is_fraud'].value_counts()"
   ]
  },
  {
   "cell_type": "code",
   "execution_count": null,
   "metadata": {},
   "outputs": [],
   "source": [
    "df_eda.columns"
   ]
  },
  {
   "cell_type": "code",
   "execution_count": null,
   "metadata": {},
   "outputs": [],
   "source": [
    "cols_of_interest = ['cc_num', 'gender', 'state', 'zip', 'city_pop', 'dob', \n",
    "       'trans_num', 'trans_date', 'trans_time', 'unix_time',\n",
    "       'category', 'amt', 'is_fraud', 'region', 'trans_time_segment', 'age_group', 'cc_type', 'area_cat']"
   ]
  },
  {
   "cell_type": "code",
   "execution_count": null,
   "metadata": {},
   "outputs": [],
   "source": [
    "from autoviz.AutoViz_Class import AutoViz_Class"
   ]
  },
  {
   "cell_type": "code",
   "execution_count": null,
   "metadata": {},
   "outputs": [],
   "source": [
    "cols_of_interest = ['gender', 'city_pop', 'dob', 'trans_date', 'trans_time', \n",
    "                    'unix_time', 'category', 'amt', 'is_fraud', 'region', \n",
    "                    'trans_time_segment', 'age_group', 'cc_type', 'area_cat']\n",
    "\n",
    "df_subset = df_eda[cols_of_interest]\n",
    "df_subset.to_csv(fname + '_subset.csv', index=False)\n",
    "df_subset.head()"
   ]
  },
  {
   "cell_type": "code",
   "execution_count": null,
   "metadata": {},
   "outputs": [],
   "source": [
    "## NOTE: Some faature engineering needs to be done before running AutoViz\n",
    "# AutoViz for automated visualizations\n",
    "AV = AutoViz_Class()\n",
    "# Generate automated visualizations\n",
    "dft = AV.AutoViz(\n",
    "    filename = fname + '_subset.csv', \n",
    "    #dfte=df_subset,\n",
    "    #depVar ='is_fraud',  # Target variable\n",
    "    #chart_format = 'matplotlib',\n",
    "    #max_rows_analyzed=10000,  # Limit for performance\n",
    "    #max_cols_analyzed=15    \n",
    ")"
   ]
  },
  {
   "cell_type": "code",
   "execution_count": null,
   "metadata": {},
   "outputs": [],
   "source": []
  },
  {
   "cell_type": "code",
   "execution_count": null,
   "metadata": {},
   "outputs": [],
   "source": [
    "#print(df_eda['distance'].value_counts())\n",
    "print(df_eda['distance'].describe())\n",
    "print('skewness', df_eda['distance'].skew()) # -0.24, largely symmetrical distribution with a slight pull to the left\n",
    "\n",
    "# Display the distribution of distances \n",
    "plt.figure(figsize=(10, 6))\n",
    "sns.histplot(df_eda['distance'], bins=30, kde=True)\n",
    "\n",
    "distance_bins = [0, 20, 50, 100, 150]  # Ranges for categorization\n",
    "distance_labels = [\"local_0-20_km\", \"close_21-50_km\", \"moderate_51-100_km\", \"far_101-150_km\"]\n",
    "\n",
    "# Create a new column with distance categories\n",
    "df_eda['distance_category'] = pd.cut(df_eda['distance'], bins=distance_bins, labels=distance_labels, include_lowest=True)\n",
    "\n",
    "#df_eda.head()"
   ]
  }
 ],
 "metadata": {
  "kernelspec": {
   "display_name": "ds18_ml-proj1",
   "language": "python",
   "name": "python3"
  },
  "language_info": {
   "codemirror_mode": {
    "name": "ipython",
    "version": 3
   },
   "file_extension": ".py",
   "mimetype": "text/x-python",
   "name": "python",
   "nbconvert_exporter": "python",
   "pygments_lexer": "ipython3",
   "version": "3.9.21"
  }
 },
 "nbformat": 4,
 "nbformat_minor": 2
}
