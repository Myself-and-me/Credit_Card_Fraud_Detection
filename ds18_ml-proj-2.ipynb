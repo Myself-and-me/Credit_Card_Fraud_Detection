{
 "cells": [
  {
   "cell_type": "code",
   "execution_count": 46,
   "metadata": {},
   "outputs": [],
   "source": [
    "import pandas as pd\n",
    "import numpy as np\n",
    "import matplotlib.pyplot as plt\n",
    "import seaborn as sns\n",
    "import random\n",
    "import dask.dataframe as dd\n",
    "from geopy.distance import geodesic\n",
    "\n",
    "import warnings\n",
    "warnings.filterwarnings('ignore')"
   ]
  },
  {
   "cell_type": "markdown",
   "metadata": {},
   "source": [
    "Load the data..."
   ]
  },
  {
   "cell_type": "code",
   "execution_count": 3,
   "metadata": {},
   "outputs": [],
   "source": [
    "#df = pd.read_csv('../csv/credit_card_fraud_2019_q1.csv')\n",
    "df = pd.read_csv('csv/credit_card_fraud_sample_10K.csv')"
   ]
  },
  {
   "cell_type": "code",
   "execution_count": 4,
   "metadata": {},
   "outputs": [],
   "source": [
    "# Set Pandas options to display full rows\n",
    "pd.set_option('display.max_colwidth', None)  # Show full column contents\n",
    "pd.set_option('display.max_columns', None)  # Show all columns\n",
    "#pd.set_option('display.width', 1000)  # Adjust width for full display\n",
    "#pd.set_option('display.max_rows', None)  # Show all rows (use with caution for large datasets)"
   ]
  },
  {
   "cell_type": "code",
   "execution_count": null,
   "metadata": {},
   "outputs": [],
   "source": [
    "df.head()"
   ]
  },
  {
   "cell_type": "code",
   "execution_count": null,
   "metadata": {},
   "outputs": [],
   "source": [
    "df.isna().sum()"
   ]
  },
  {
   "cell_type": "markdown",
   "metadata": {},
   "source": [
    "Clean the Data\n",
    "1. consider drop first/last name, ssn, cc_num, trans_num etc...\n",
    "2. explore locational data e.g zip lat/long, city etc... TBD replace with regions??\n",
    "3. reorganize date & time data:\n",
    "    3.1 work day vs weekend\n",
    "    3.2 TBD: split hour segment, work/sleep/free hours\n",
    "4. set 4 age groups youngest to oldest (18-199), teenager (-18) young_adult (19-25), adult (26-65), retired (...)\n",
    "    4.1 TBD treat different for men & women?? retirement age 66(M), 63(F)\n",
    "\n",
    "5. categorize: category,          \n",
    "\n",
    "6. explore: amt, dob? \n"
   ]
  },
  {
   "cell_type": "code",
   "execution_count": null,
   "metadata": {},
   "outputs": [],
   "source": []
  },
  {
   "cell_type": "code",
   "execution_count": null,
   "metadata": {},
   "outputs": [],
   "source": [
    "df.info()"
   ]
  },
  {
   "cell_type": "code",
   "execution_count": 9,
   "metadata": {},
   "outputs": [],
   "source": [
    "df.rename(columns={'Unnamed: 0':'id'}, inplace=True)"
   ]
  },
  {
   "cell_type": "code",
   "execution_count": null,
   "metadata": {},
   "outputs": [],
   "source": [
    "print(df['gender'].value_counts())\n",
    "df['gender'] = df['gender'].map({'M': 1, 'F': 0})\n",
    "print(df['gender'].value_counts())\n"
   ]
  },
  {
   "cell_type": "markdown",
   "metadata": {},
   "source": [
    "## Create a time delta between 2 consequent transactions using the unix time."
   ]
  },
  {
   "cell_type": "code",
   "execution_count": null,
   "metadata": {},
   "outputs": [],
   "source": []
  },
  {
   "cell_type": "markdown",
   "metadata": {},
   "source": [
    "##Handle date time related data"
   ]
  },
  {
   "cell_type": "code",
   "execution_count": null,
   "metadata": {},
   "outputs": [],
   "source": [
    "def assign_time_segment(hour):\n",
    "    if 0 <= hour < 6:\n",
    "        return 'Late_Night_0-6'\n",
    "    elif 6 <= hour < 12:\n",
    "        return 'Morning_6-12'\n",
    "    elif 12 <= hour < 18:\n",
    "        return 'Afternoon_12-18'\n",
    "    else:\n",
    "        return 'Evening_18-24'\n",
    "\n",
    "def assign_age_group(age):\n",
    "    if age < 15:\n",
    "        return 'child'\n",
    "    elif age < 20:\n",
    "        return 'teenager'\n",
    "    elif age < 40:\n",
    "        return 'young_adult'\n",
    "    elif age < 60:\n",
    "        return 'middle_aged'\n",
    "    elif age < 80:\n",
    "        return 'senior'\n",
    "    else:\n",
    "        return 'elderly'\n",
    "\n",
    "df['trans_date'] = pd.to_datetime(df['trans_date'])\n",
    "df['trans_time'] = pd.to_datetime(df['trans_time'])\n",
    "\n",
    "df['trans_year'] = df['trans_date'].dt.year\n",
    "df['trans_month'] = df['trans_date'].dt.month\n",
    "df['trans_day'] = df['trans_date'].dt.day\n",
    "\n",
    "#df['trans_hour'] = df['trans_time'].dt.hour\n",
    "#df['trans_minute'] =df['trans_time'].dt.minute\n",
    "#df['trans_second'] =df['trans_time'].dt.second\n",
    "df['trans_time_segment'] = df['trans_time'].dt.hour.apply(assign_time_segment)\n",
    "\n",
    "#df['dob'] = pd.to_datetime(df['dob'])\n",
    "#df['age'] = df['trans_year']  - df['dob'].dt.year\n",
    "df['age_group'] = (df['trans_year'] -pd.to_datetime(df['dob']).dt.year).apply(assign_age_group)\n"
   ]
  },
  {
   "cell_type": "code",
   "execution_count": null,
   "metadata": {},
   "outputs": [],
   "source": [
    "df['age_group'].value_counts()"
   ]
  },
  {
   "cell_type": "markdown",
   "metadata": {},
   "source": [
    "## Categorize CC numbers"
   ]
  },
  {
   "cell_type": "code",
   "execution_count": null,
   "metadata": {},
   "outputs": [],
   "source": [
    "#credit card types\n",
    "\n",
    "# Function to determine credit card type based on the first 4 digits\n",
    "def get_cc_type(cc_num):\n",
    "    cc_num = str(cc_num)\n",
    "    first_four = int(cc_num[:4]) if cc_num[:4].isdigit() else None\n",
    "\n",
    "    if first_four is None:\n",
    "        return \"Unknown_none\"\n",
    "    elif 4000 <= first_four <= 4999:\n",
    "        return \"Visa\"\n",
    "    elif 5100 <= first_four <= 5599 or 2221 <= first_four <= 2720:\n",
    "        return \"MasterCard\"\n",
    "    elif 3400 <= first_four <= 3499 or 3700 <= first_four <= 3799:\n",
    "        return \"American_Express\"\n",
    "    elif 6011 == first_four or 6221 <= first_four <= 6229 or 6440 <= first_four <= 6499 or 6500 <= first_four <= 6599:\n",
    "        return \"Discover\"\n",
    "    elif 3000 <= first_four <= 3059 or first_four // 100 == 36 or first_four // 100 == 38:     #first_four in [36, 38]:\n",
    "        return \"Diners_Club\"\n",
    "    elif 3528 <= first_four <= 3589:\n",
    "        return \"JCB\"\n",
    "    else:\n",
    "        return f\"Unknown\"\n",
    "\n",
    "# Apply function to extract 'cc_type'\n",
    "df['cc_type'] = df['cc_num'].apply(get_cc_type)\n"
   ]
  },
  {
   "cell_type": "markdown",
   "metadata": {},
   "source": [
    "## Categorize poppulations by size"
   ]
  },
  {
   "cell_type": "code",
   "execution_count": null,
   "metadata": {},
   "outputs": [
    {
     "data": {
      "image/png": "[encoded data removed]",
      "text/plain": [
       "<Figure size 640x480 with 1 Axes>"
      ]
     },
     "metadata": {},
     "output_type": "display_data"
    }
   ],
   "source": [
    "'''\n",
    "Opt one, decided not to use it since it is highly skewed to the right\n",
    "# Define custom categories based on population size\n",
    "bins_custom = [0, 5000, 20000, 100000, 500000, 1000000, 3000000]  # 6 bins\n",
    "labels_custom = ['Very Small', 'Small', 'Medium', 'Large', 'Very Large', 'Metropolis']\n",
    "\n",
    "# Create categorical column\n",
    "df['city_pop_cat'] = pd.cut(df['city_pop'], bins=bins_custom, labels=labels_custom, include_lowest=True)\n",
    "\n",
    "# Display the distribution of categories\n",
    "df['city_pop_cat'].value_counts()'\n",
    "'''\n",
    "#Opt two, decided to use log transformation to make it more normal\n",
    "df['city_pop_log'] = np.log1p(df['city_pop'])\n",
    "\n",
    "#df['city_pop_log'].hist(bins=30)\n",
    "#plt.show()\n"
   ]
  },
  {
   "cell_type": "markdown",
   "metadata": {},
   "source": [
    "## Formulate customer to merchant distance"
   ]
  },
  {
   "cell_type": "code",
   "execution_count": null,
   "metadata": {},
   "outputs": [],
   "source": [
    "# Function to calculate distance between user and merchant locations\n",
    "def calculate_distance(row):\n",
    "    user_location = (row['lat'], row['long'])\n",
    "    merchant_location = (row['merch_lat'], row['merch_long'])\n",
    "    return geodesic(user_location, merchant_location).kilometers\n",
    "\n",
    "# Apply distance calculation\n",
    "df['distance'] = df.apply(calculate_distance, axis=1)\n",
    "\n",
    "print(df['distance'].describe())\n",
    "print('skewness', df['distance'].skew()) # -0.24, largely symmetrical distribution with a slight pull to the left\n",
    "\n",
    "# Display the distribution of distances \n",
    "plt.figure(figsize=(10, 6))\n",
    "sns.histplot(df['distance'], bins=30, kde=True)\n",
    "\n",
    "distance_bins = [0, 20, 50, 100, 150]  # Ranges for categorization\n",
    "distance_labels = [\"local_0-20_km\", \"close_21-50_km\", \"moderate_51-100_km\", \"far_101-150_km\"]\n",
    "\n",
    "# Create a new column with distance categories\n",
    "df['distance_category'] = pd.cut(df['distance'], bins=distance_bins, labels=distance_labels, include_lowest=True)\n",
    "\n",
    "df.head()"
   ]
  },
  {
   "cell_type": "code",
   "execution_count": null,
   "metadata": {},
   "outputs": [],
   "source": []
  },
  {
   "cell_type": "markdown",
   "metadata": {},
   "source": [
    "## Categorize Jobs - TBD requires further improvement!!!"
   ]
  },
  {
   "cell_type": "code",
   "execution_count": null,
   "metadata": {},
   "outputs": [],
   "source": [
    "\n",
    "def categorize_jobs(df, job_column=\"job\"):\n",
    "    \"\"\"\n",
    "    Categorizes jobs based on keywords derived from the latest refined job mapping\n",
    "    and creates a new column 'job_cat'.\n",
    "    \n",
    "    Parameters:\n",
    "    df (DataFrame): The dataframe containing the job column.\n",
    "    job_column (str): The name of the column that contains job titles.\n",
    "    \n",
    "    Returns:\n",
    "    DataFrame: The dataframe with a new column 'job_cat' containing the job categories.\n",
    "    \"\"\"\n",
    "    # Define the latest refined job mapping\n",
    "    refined_job_mapping = {\n",
    "        \"Healthcare & Medical\": [\"Nurse\", \"Midwife\", \"Immunologist\", \"Mental health nurse\", \"Child psychotherapist\", \n",
    "                                  \"Speech and language therapist\", \"Clinical molecular geneticist\", \"Scientist\",\n",
    "                                  \"Doctor\", \"Physician\", \"Surgeon\", \"Hospital doctor\", \"General practitioner\",\n",
    "                                  \"Clinical scientist\", \"Radiologist\", \"Psychiatrist\", \"Dentist\", \"Optometrist\",\n",
    "                                  \"Pharmacist\", \"Therapist\", \"Physiotherapist\", \"Oncologist\", \"Neurologist\",\n",
    "                                  \"Cardiologist\", \"Pediatrician\", \"Endocrinologist\", \"Urologist\", \"Chiropractor\",\n",
    "                                  \"Anesthesiologist\", \"Dietitian\", \"Orthodontist\", \"Paramedic\", \"Occupational therapist\",\n",
    "                                  \"General practice doctor\", \"Health physicist\", \"Radiographer, therapeutic\", \"Psychologist, clinical\",\n",
    "                                  \"Orthoptist\", \"Ophthalmologist\", \"Haematologist\", \"Pathologist\", \"Toxicologist\",\n",
    "                                  \"Homeopath\", \"Nurse, mental health\", \"Optician\", \"Ambulance\", \"Health\"],\n",
    "        \"Engineering & Technical\": [\"Engineer\", \"Automotive engineer\", \"Water engineer\", \"Operations geologist\", \n",
    "                                    \"Electrical engineer\", \"Mechanical engineer\", \"Chemical engineer\", \"Civil engineer\",\n",
    "                                    \"Aerospace engineer\", \"Biomedical engineer\", \"Environmental engineer\", \"Structural engineer\", \n",
    "                                    \"Industrial engineer\", \"Mining engineer\", \"Engineer, control and instrumentation\",\n",
    "                                    \"Technologist\", \"Technician\", \"Hydrologist\", \"Hydrogeologist\", \"Arboriculturist\", \"Tree surgeon\"],\n",
    "        \"Software & IT\": [\"IT consultant\", \"Software developer\", \"Data scientist\", \"Cybersecurity analyst\",\n",
    "                          \"System administrator\", \"Network engineer\", \"Telecom specialist\", \"Machine learning engineer\", \n",
    "                          \"Robotics engineer\", \"AI specialist\", \"DevOps engineer\", \"Database administrator\", \"Web developer\",\n",
    "                          \"Cloud architect\", \"Game developer\", \"Games\", \"Application\", \"Programmer\", \"Systems developer\"],\n",
    "        \"Education & Training\": [\"Teacher\", \"Outdoor activities/education manager\", \"Professor\", \"Lecturer\", \"Tutor\",\n",
    "                                 \"Trainer\", \"Instructional designer\", \"Education consultant\", \"Principal\", \"School counselor\",\n",
    "                                 \"Curriculum developer\", \"Teacher, secondary school\", \"Librarian\"],\n",
    "        \"Finance & Accounting\": [\"Dealer\", \"Financial analyst\", \"Accountant\", \"Auditor\", \"Investment banker\", \n",
    "                                 \"Economist\", \"Bank manager\", \"Actuary\", \"Tax consultant\", \"Insurance agent\",\n",
    "                                 \"Financial planner\", \"Risk analyst\", \"Loan officer\", \"Financial adviser\", \n",
    "                                 \"Accountant, chartered public finance\", \"Tax\", \"Trader\", \"Investment\", \"Insurance\"],\n",
    "        \"Business & Management\": [\"Facilities manager\", \"Event organiser\", \"Project manager\", \"Operations manager\", \n",
    "                                  \"HR manager\", \"Business consultant\", \"Strategy consultant\", \"Executive director\",\n",
    "                                  \"Entrepreneur\", \"Supply chain manager\", \"Management consultant\", \"Secretary\", \"Executive\",\n",
    "                                  \"Officer\", \"Director\", \"Administrator\"],\n",
    "        \"Government & Public Sector\": [\"Research officer, government\", \"Surveyor, building control\", \"Information officer\", \n",
    "                                       \"Policy analyst\", \"Public relations officer\", \"Government administrator\", \"Urban planner\", \n",
    "                                       \"Customs officer\", \"Diplomat\", \"Legislative assistant\", \"Forensic scientist\"],\n",
    "        \"Creative & Media\": [\"Printmaker\", \"Graphic designer\", \"Journalist\", \"Photographer\", \"Videographer\", \n",
    "                             \"Illustrator\", \"Animator\", \"Film director\", \"Content creator\", \"Editor\", \"Copywriter\", \n",
    "                             \"Fashion designer\", \"Interior designer\", \"Colour technologist\", \"Camera\", \"Broadcast\", \n",
    "                             \"Magazine\", \"Broadcasting\", \"Film\", \"Video\", \"Designer\", \"Television\", \"Theatre\", \"Radio\"],\n",
    "        \"Consulting\": [\"Business consultant\", \"IT consultant\", \"Strategy consultant\", \"Legal consultant\", \"Adviser\", \"Advice\"],\n",
    "        \"Agriculture & Environmental\": [\"Farmer\", \"Agronomist\", \"Food scientist\", \"Environmental scientist\", \"Ecologist\", \"Park ranger\", \"Forestry technician\",\n",
    "                                          \"Hydrologist\", \"Hydrogeologist\", \"Herpetologist\", \"Arboriculturist\", \"Tree surgeon\"],\n",
    "    }\n",
    "    \n",
    "    # Categorize job based on keyword matching\n",
    "    def find_category(job_title):\n",
    "        for category, keywords in refined_job_mapping.items():\n",
    "            if any(keyword.lower() in job_title.lower() for keyword in keywords):\n",
    "                return category\n",
    "        return \"Other\"\n",
    "    \n",
    "    # Apply categorization function to the job column\n",
    "    df[\"job_cat\"] = df[job_column].apply(find_category)\n",
    "    \n",
    "    return df\n",
    "\n",
    "\n",
    "\n",
    "# Apply the function to categorize jobs in the dataset\n",
    "df = categorize_jobs(df, job_column=\"job\")\n",
    "\n",
    "# Display first few rows to confirm\n",
    "df.head()\n",
    "df['job_cat'].value_counts()"
   ]
  },
  {
   "cell_type": "code",
   "execution_count": null,
   "metadata": {},
   "outputs": [],
   "source": [
    "# set area\n",
    "#df['profile'] = df['profile'].str.replace('.json', '') \n",
    "# Extract the area (last word before .json)\n",
    "df['area'] = df['profile'].str.extract(r'_(rural|urban)\\.json')\n",
    "\n",
    "print(df['area'].value_counts())"
   ]
  },
  {
   "cell_type": "code",
   "execution_count": null,
   "metadata": {},
   "outputs": [],
   "source": [
    "df.info()"
   ]
  },
  {
   "cell_type": "code",
   "execution_count": 37,
   "metadata": {},
   "outputs": [],
   "source": [
    "df['ssn'] = df['ssn'].astype('string')\n",
    "df['street'] = df['street'].astype('string')\n",
    "df['city'] = df['city'].astype('string')\n",
    "df['state'] = df['state'].astype('string')\n",
    "df['profile'] = df['profile'].astype('string')\n",
    "df['trans_num'] = df['trans_num'].astype('string')\n",
    "df['category'] = df['category'].astype('string')\n",
    "df['merchant'] = df['merchant'].astype('string')\n",
    "df['cc_type'] = df['cc_type'].astype('string')\n",
    "df['age_group'] = df['age_group'].astype('string')\n",
    "df['trans_time_segment'] = df['trans_time_segment'].astype('string')\n",
    "df['distance_category'] = df['distance_category'].astype('string')\n"
   ]
  },
  {
   "cell_type": "code",
   "execution_count": null,
   "metadata": {},
   "outputs": [
    {
     "name": "stdout",
     "output_type": "stream",
     "text": [
      "<class 'pandas.core.frame.DataFrame'>\n",
      "RangeIndex: 10000 entries, 0 to 9999\n",
      "Data columns (total 36 columns):\n",
      " #   Column              Non-Null Count  Dtype         \n",
      "---  ------              --------------  -----         \n",
      " 0   id                  10000 non-null  int64         \n",
      " 1   ssn                 10000 non-null  string        \n",
      " 2   cc_num              10000 non-null  int64         \n",
      " 3   first               10000 non-null  object        \n",
      " 4   last                10000 non-null  object        \n",
      " 5   gender              10000 non-null  object        \n",
      " 6   street              10000 non-null  string        \n",
      " 7   city                10000 non-null  string        \n",
      " 8   state               10000 non-null  string        \n",
      " 9   zip                 10000 non-null  int64         \n",
      " 10  lat                 10000 non-null  float64       \n",
      " 11  long                10000 non-null  float64       \n",
      " 12  city_pop            10000 non-null  int64         \n",
      " 13  job                 10000 non-null  object        \n",
      " 14  dob                 10000 non-null  object        \n",
      " 15  acct_num            10000 non-null  int64         \n",
      " 16  profile             10000 non-null  string        \n",
      " 17  trans_num           10000 non-null  string        \n",
      " 18  trans_date          10000 non-null  datetime64[ns]\n",
      " 19  trans_time          10000 non-null  datetime64[ns]\n",
      " 20  unix_time           10000 non-null  int64         \n",
      " 21  category            10000 non-null  string        \n",
      " 22  amt                 10000 non-null  float64       \n",
      " 23  is_fraud            10000 non-null  int64         \n",
      " 24  merchant            10000 non-null  string        \n",
      " 25  merch_lat           10000 non-null  float64       \n",
      " 26  merch_long          10000 non-null  float64       \n",
      " 27  trans_year          10000 non-null  int32         \n",
      " 28  trans_month         10000 non-null  int32         \n",
      " 29  trans_day           10000 non-null  int32         \n",
      " 30  trans_time_segment  10000 non-null  string        \n",
      " 31  age_group           10000 non-null  string        \n",
      " 32  cc_type             10000 non-null  string        \n",
      " 33  city_pop_log        10000 non-null  float64       \n",
      " 34  distance            10000 non-null  float64       \n",
      " 35  distance_category   10000 non-null  string        \n",
      "dtypes: datetime64[ns](2), float64(7), int32(3), int64(7), object(5), string(12)\n",
      "memory usage: 2.6+ MB\n"
     ]
    }
   ],
   "source": []
  },
  {
   "cell_type": "code",
   "execution_count": null,
   "metadata": {},
   "outputs": [
    {
     "name": "stdout",
     "output_type": "stream",
     "text": [
      "area\n",
      "urban    3058679\n",
      "rural     167602\n",
      "Name: count, dtype: Int64\n"
     ]
    }
   ],
   "source": [
    "\n"
   ]
  },
  {
   "cell_type": "code",
   "execution_count": null,
   "metadata": {},
   "outputs": [],
   "source": [
    "#potential dropouts\n",
    "#['ssn','cc_num', 'trans_num', 'first','last','dob']\n"
   ]
  }
 ],
 "metadata": {
  "kernelspec": {
   "display_name": "ds18_ml-proj1",
   "language": "python",
   "name": "python3"
  },
  "language_info": {
   "codemirror_mode": {
    "name": "ipython",
    "version": 3
   },
   "file_extension": ".py",
   "mimetype": "text/x-python",
   "name": "python",
   "nbconvert_exporter": "python",
   "pygments_lexer": "ipython3",
   "version": "3.9.21"
  }
 },
 "nbformat": 4,
 "nbformat_minor": 2
}
