{
 "cells": [
  {
   "cell_type": "code",
   "execution_count": 5,
   "metadata": {},
   "outputs": [],
   "source": [
    "import pandas as pd\n",
    "import numpy as np\n",
    "import matplotlib.pyplot as plt\n",
    "import seaborn as sns\n",
    "import random\n",
    "import dask.dataframe as dd"
   ]
  },
  {
   "cell_type": "code",
   "execution_count": null,
   "metadata": {},
   "outputs": [
    {
     "name": "stdout",
     "output_type": "stream",
     "text": [
      "Index(['Unnamed: 0', 'ssn', 'cc_num', 'first', 'last', 'gender', 'street',\n",
      "       'city', 'state', 'zip', 'lat', 'long', 'city_pop', 'job', 'dob',\n",
      "       'acct_num', 'profile', 'trans_num', 'trans_date', 'trans_time',\n",
      "       'unix_time', 'category', 'amt', 'is_fraud', 'merchant', 'merch_lat',\n",
      "       'merch_long'],\n",
      "      dtype='object')\n"
     ]
    }
   ],
   "source": [
    "df_sample = pd.read_csv('credit_card_fraud.csv').sample(n=1000, random_state=42)\n",
    "df_sample = pd.read_csv('credit_card_fraud.csv', nrows=1000)\n",
    "print(df_sample.columns)"
   ]
  },
  {
   "cell_type": "code",
   "execution_count": 8,
   "metadata": {},
   "outputs": [
    {
     "data": {
      "text/plain": [
       "is_fraud\n",
       "0    959\n",
       "1     41\n",
       "Name: count, dtype: int64"
      ]
     },
     "execution_count": 8,
     "metadata": {},
     "output_type": "execute_result"
    }
   ],
   "source": [
    "df_sample['is_fraud'].value_counts()"
   ]
  },
  {
   "cell_type": "code",
   "execution_count": null,
   "metadata": {},
   "outputs": [],
   "source": [
    "df_sample = pd.read_csv('credit_card_fraud.csv').sample(n=10000, random_state=42)\n",
    "pd.write_csv('credit_card_fraud_sample_10K.csv', index=False)"
   ]
  },
  {
   "cell_type": "code",
   "execution_count": null,
   "metadata": {},
   "outputs": [],
   "source": [
    "df_sample.shape\n",
    "#df_sample.to_csv('credit_card_fraud_sample_10K.csv', index=False)"
   ]
  },
  {
   "cell_type": "code",
   "execution_count": null,
   "metadata": {},
   "outputs": [],
   "source": [
    "df_sample.nunique()"
   ]
  },
  {
   "cell_type": "code",
   "execution_count": 23,
   "metadata": {},
   "outputs": [
    {
     "name": "stdout",
     "output_type": "stream",
     "text": [
      "16.1.0\n"
     ]
    }
   ],
   "source": [
    "import pyarrow\n",
    "print(pyarrow.__version__)\n"
   ]
  },
  {
   "cell_type": "code",
   "execution_count": 3,
   "metadata": {},
   "outputs": [
    {
     "data": {
      "text/plain": [
       "['d:\\\\pyProjects\\\\DS18\\\\ds-18-ml-proj2\\\\credit_card_fraud_2019_1.csv']"
      ]
     },
     "execution_count": 3,
     "metadata": {},
     "output_type": "execute_result"
    }
   ],
   "source": [
    "ddf = dd.read_csv('credit_card_fraud.csv', parse_dates=['trans_date'])\n",
    "\n",
    "ddf_filtered = ddf[ddf['trans_date'].dt.year == 2019]\n",
    "\n",
    "ddf_filtered.to_csv('credit_card_fraud_2019_1.csv', index=False, single_file=True)\n",
    "\n"
   ]
  },
  {
   "cell_type": "code",
   "execution_count": 7,
   "metadata": {},
   "outputs": [],
   "source": [
    "ddf = dd.read_csv('credit_card_fraud_2019_1.csv', parse_dates=['trans_date'])\n",
    "\n",
    "ddf['trans_date'] = dd.to_datetime(ddf['trans_date'])\n",
    "\n",
    "ddf['quarter'] = ddf['trans_date'].dt.quarter\n",
    "\n",
    "for q in range(1, 5):\n",
    "    ddf_filtered = ddf[ddf['quarter'] == q]\n",
    "    ddf_filtered.to_csv('credit_card_fraud_2019_q{}.csv'.format(q), index=False, single_file=True)\n",
    "\n"
   ]
  },
  {
   "cell_type": "code",
   "execution_count": 19,
   "metadata": {},
   "outputs": [],
   "source": [
    "#busiest card fraud in the month\n",
    "df = pd.read_csv('credit_card_fraud_2019_q4.csv')"
   ]
  },
  {
   "cell_type": "code",
   "execution_count": 20,
   "metadata": {},
   "outputs": [
    {
     "data": {
      "text/plain": [
       "is_fraud\n",
       "0    99.545738\n",
       "1     0.454262\n",
       "Name: count, dtype: float64"
      ]
     },
     "execution_count": 20,
     "metadata": {},
     "output_type": "execute_result"
    }
   ],
   "source": [
    "(df['is_fraud'].value_counts() / df.shape[0]) * 100\n"
   ]
  },
  {
   "cell_type": "code",
   "execution_count": 22,
   "metadata": {},
   "outputs": [
    {
     "data": {
      "text/plain": [
       "is_fraud\n",
       "0    5238920\n",
       "1      23907\n",
       "Name: count, dtype: int64"
      ]
     },
     "execution_count": 22,
     "metadata": {},
     "output_type": "execute_result"
    }
   ],
   "source": [
    "df['is_fraud'].value_counts()"
   ]
  },
  {
   "cell_type": "code",
   "execution_count": 23,
   "metadata": {},
   "outputs": [
    {
     "data": {
      "text/html": [
       "<div>\n",
       "<style scoped>\n",
       "    .dataframe tbody tr th:only-of-type {\n",
       "        vertical-align: middle;\n",
       "    }\n",
       "\n",
       "    .dataframe tbody tr th {\n",
       "        vertical-align: top;\n",
       "    }\n",
       "\n",
       "    .dataframe thead th {\n",
       "        text-align: right;\n",
       "    }\n",
       "</style>\n",
       "<table border=\"1\" class=\"dataframe\">\n",
       "  <thead>\n",
       "    <tr style=\"text-align: right;\">\n",
       "      <th></th>\n",
       "      <th>Unnamed: 0</th>\n",
       "      <th>ssn</th>\n",
       "      <th>cc_num</th>\n",
       "      <th>first</th>\n",
       "      <th>last</th>\n",
       "      <th>gender</th>\n",
       "      <th>street</th>\n",
       "      <th>city</th>\n",
       "      <th>state</th>\n",
       "      <th>zip</th>\n",
       "      <th>...</th>\n",
       "      <th>trans_date</th>\n",
       "      <th>trans_time</th>\n",
       "      <th>unix_time</th>\n",
       "      <th>category</th>\n",
       "      <th>amt</th>\n",
       "      <th>is_fraud</th>\n",
       "      <th>merchant</th>\n",
       "      <th>merch_lat</th>\n",
       "      <th>merch_long</th>\n",
       "      <th>quarter</th>\n",
       "    </tr>\n",
       "  </thead>\n",
       "  <tbody>\n",
       "    <tr>\n",
       "      <th>0</th>\n",
       "      <td>16</td>\n",
       "      <td>077-66-9719</td>\n",
       "      <td>6569371776571759</td>\n",
       "      <td>Judith</td>\n",
       "      <td>Long</td>\n",
       "      <td>F</td>\n",
       "      <td>501 Bullock Port Suite 284</td>\n",
       "      <td>Port Washington</td>\n",
       "      <td>NY</td>\n",
       "      <td>11050</td>\n",
       "      <td>...</td>\n",
       "      <td>2019-12-26</td>\n",
       "      <td>01:08:05</td>\n",
       "      <td>1577302685</td>\n",
       "      <td>grocery_pos</td>\n",
       "      <td>12.78</td>\n",
       "      <td>1</td>\n",
       "      <td>fraud_Bauch-Raynor</td>\n",
       "      <td>41.622025</td>\n",
       "      <td>-74.287152</td>\n",
       "      <td>4</td>\n",
       "    </tr>\n",
       "    <tr>\n",
       "      <th>1</th>\n",
       "      <td>17</td>\n",
       "      <td>077-66-9719</td>\n",
       "      <td>6569371776571759</td>\n",
       "      <td>Judith</td>\n",
       "      <td>Long</td>\n",
       "      <td>F</td>\n",
       "      <td>501 Bullock Port Suite 284</td>\n",
       "      <td>Port Washington</td>\n",
       "      <td>NY</td>\n",
       "      <td>11050</td>\n",
       "      <td>...</td>\n",
       "      <td>2019-12-26</td>\n",
       "      <td>01:33:53</td>\n",
       "      <td>1577304233</td>\n",
       "      <td>grocery_pos</td>\n",
       "      <td>13.74</td>\n",
       "      <td>1</td>\n",
       "      <td>fraud_Wolf Inc</td>\n",
       "      <td>40.405458</td>\n",
       "      <td>-74.299585</td>\n",
       "      <td>4</td>\n",
       "    </tr>\n",
       "    <tr>\n",
       "      <th>2</th>\n",
       "      <td>18</td>\n",
       "      <td>077-66-9719</td>\n",
       "      <td>6569371776571759</td>\n",
       "      <td>Judith</td>\n",
       "      <td>Long</td>\n",
       "      <td>F</td>\n",
       "      <td>501 Bullock Port Suite 284</td>\n",
       "      <td>Port Washington</td>\n",
       "      <td>NY</td>\n",
       "      <td>11050</td>\n",
       "      <td>...</td>\n",
       "      <td>2019-12-26</td>\n",
       "      <td>03:26:31</td>\n",
       "      <td>1577310991</td>\n",
       "      <td>grocery_pos</td>\n",
       "      <td>9.41</td>\n",
       "      <td>1</td>\n",
       "      <td>fraud_Schultz, Simonis and Little</td>\n",
       "      <td>40.050169</td>\n",
       "      <td>-74.325142</td>\n",
       "      <td>4</td>\n",
       "    </tr>\n",
       "    <tr>\n",
       "      <th>3</th>\n",
       "      <td>19</td>\n",
       "      <td>077-66-9719</td>\n",
       "      <td>6569371776571759</td>\n",
       "      <td>Judith</td>\n",
       "      <td>Long</td>\n",
       "      <td>F</td>\n",
       "      <td>501 Bullock Port Suite 284</td>\n",
       "      <td>Port Washington</td>\n",
       "      <td>NY</td>\n",
       "      <td>11050</td>\n",
       "      <td>...</td>\n",
       "      <td>2019-12-26</td>\n",
       "      <td>01:05:28</td>\n",
       "      <td>1577302528</td>\n",
       "      <td>gas_transport</td>\n",
       "      <td>277.84</td>\n",
       "      <td>1</td>\n",
       "      <td>fraud_Torp-Labadie</td>\n",
       "      <td>40.328734</td>\n",
       "      <td>-72.938980</td>\n",
       "      <td>4</td>\n",
       "    </tr>\n",
       "    <tr>\n",
       "      <th>4</th>\n",
       "      <td>20</td>\n",
       "      <td>077-66-9719</td>\n",
       "      <td>6569371776571759</td>\n",
       "      <td>Judith</td>\n",
       "      <td>Long</td>\n",
       "      <td>F</td>\n",
       "      <td>501 Bullock Port Suite 284</td>\n",
       "      <td>Port Washington</td>\n",
       "      <td>NY</td>\n",
       "      <td>11050</td>\n",
       "      <td>...</td>\n",
       "      <td>2019-12-26</td>\n",
       "      <td>09:47:00</td>\n",
       "      <td>1577333820</td>\n",
       "      <td>gas_transport</td>\n",
       "      <td>299.67</td>\n",
       "      <td>1</td>\n",
       "      <td>fraud_Emard Inc</td>\n",
       "      <td>41.670631</td>\n",
       "      <td>-74.218224</td>\n",
       "      <td>4</td>\n",
       "    </tr>\n",
       "  </tbody>\n",
       "</table>\n",
       "<p>5 rows × 28 columns</p>\n",
       "</div>"
      ],
      "text/plain": [
       "   Unnamed: 0          ssn            cc_num   first  last gender  \\\n",
       "0          16  077-66-9719  6569371776571759  Judith  Long      F   \n",
       "1          17  077-66-9719  6569371776571759  Judith  Long      F   \n",
       "2          18  077-66-9719  6569371776571759  Judith  Long      F   \n",
       "3          19  077-66-9719  6569371776571759  Judith  Long      F   \n",
       "4          20  077-66-9719  6569371776571759  Judith  Long      F   \n",
       "\n",
       "                       street             city state    zip  ...  trans_date  \\\n",
       "0  501 Bullock Port Suite 284  Port Washington    NY  11050  ...  2019-12-26   \n",
       "1  501 Bullock Port Suite 284  Port Washington    NY  11050  ...  2019-12-26   \n",
       "2  501 Bullock Port Suite 284  Port Washington    NY  11050  ...  2019-12-26   \n",
       "3  501 Bullock Port Suite 284  Port Washington    NY  11050  ...  2019-12-26   \n",
       "4  501 Bullock Port Suite 284  Port Washington    NY  11050  ...  2019-12-26   \n",
       "\n",
       "   trans_time   unix_time       category     amt  is_fraud  \\\n",
       "0    01:08:05  1577302685    grocery_pos   12.78         1   \n",
       "1    01:33:53  1577304233    grocery_pos   13.74         1   \n",
       "2    03:26:31  1577310991    grocery_pos    9.41         1   \n",
       "3    01:05:28  1577302528  gas_transport  277.84         1   \n",
       "4    09:47:00  1577333820  gas_transport  299.67         1   \n",
       "\n",
       "                            merchant  merch_lat merch_long quarter  \n",
       "0                 fraud_Bauch-Raynor  41.622025 -74.287152       4  \n",
       "1                     fraud_Wolf Inc  40.405458 -74.299585       4  \n",
       "2  fraud_Schultz, Simonis and Little  40.050169 -74.325142       4  \n",
       "3                 fraud_Torp-Labadie  40.328734 -72.938980       4  \n",
       "4                    fraud_Emard Inc  41.670631 -74.218224       4  \n",
       "\n",
       "[5 rows x 28 columns]"
      ]
     },
     "execution_count": 23,
     "metadata": {},
     "output_type": "execute_result"
    }
   ],
   "source": [
    "df.head()"
   ]
  }
 ],
 "metadata": {
  "kernelspec": {
   "display_name": "ds18_ml-proj1",
   "language": "python",
   "name": "python3"
  },
  "language_info": {
   "codemirror_mode": {
    "name": "ipython",
    "version": 3
   },
   "file_extension": ".py",
   "mimetype": "text/x-python",
   "name": "python",
   "nbconvert_exporter": "python",
   "pygments_lexer": "ipython3",
   "version": "3.9.21"
  }
 },
 "nbformat": 4,
 "nbformat_minor": 2
}
