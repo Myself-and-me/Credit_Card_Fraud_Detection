{
 "cells": [
  {
   "cell_type": "code",
   "execution_count": 1,
   "metadata": {},
   "outputs": [],
   "source": [
    "import pandas as pd\n",
    "import numpy as np\n",
    "import matplotlib.pyplot as plt\n",
    "import seaborn as sns\n",
    "import random\n",
    "import dask.dataframe as dd"
   ]
  },
  {
   "cell_type": "code",
   "execution_count": null,
   "metadata": {},
   "outputs": [
    {
     "name": "stdout",
     "output_type": "stream",
     "text": [
      "Index(['Unnamed: 0', 'ssn', 'cc_num', 'first', 'last', 'gender', 'street',\n",
      "       'city', 'state', 'zip', 'lat', 'long', 'city_pop', 'job', 'dob',\n",
      "       'acct_num', 'profile', 'trans_num', 'trans_date', 'trans_time',\n",
      "       'unix_time', 'category', 'amt', 'is_fraud', 'merchant', 'merch_lat',\n",
      "       'merch_long'],\n",
      "      dtype='object')\n"
     ]
    }
   ],
   "source": [
    "df_sample = pd.read_csv('credit_card_fraud.csv').sample(n=1000, random_state=42)\n",
    "df_sample = pd.read_csv('credit_card_fraud.csv', nrows=1000)\n",
    "print(df_sample.columns)"
   ]
  },
  {
   "cell_type": "code",
   "execution_count": 8,
   "metadata": {},
   "outputs": [
    {
     "data": {
      "text/plain": [
       "is_fraud\n",
       "0    959\n",
       "1     41\n",
       "Name: count, dtype: int64"
      ]
     },
     "execution_count": 8,
     "metadata": {},
     "output_type": "execute_result"
    }
   ],
   "source": [
    "df_sample['is_fraud'].value_counts()"
   ]
  },
  {
   "cell_type": "code",
   "execution_count": null,
   "metadata": {},
   "outputs": [],
   "source": [
    "df_sample.shape\n",
    "#df_sample.to_csv('credit_card_fraud_sample_10K.csv', index=False)"
   ]
  },
  {
   "cell_type": "code",
   "execution_count": 19,
   "metadata": {},
   "outputs": [],
   "source": [
    "#busiest card fraud in the month\n",
    "df = pd.read_csv('credit_card_fraud_2019_q4.csv')"
   ]
  },
  {
   "cell_type": "code",
   "execution_count": 20,
   "metadata": {},
   "outputs": [
    {
     "data": {
      "text/plain": [
       "is_fraud\n",
       "0    99.545738\n",
       "1     0.454262\n",
       "Name: count, dtype: float64"
      ]
     },
     "execution_count": 20,
     "metadata": {},
     "output_type": "execute_result"
    }
   ],
   "source": [
    "(df['is_fraud'].value_counts() / df.shape[0]) * 100\n"
   ]
  },
  {
   "cell_type": "code",
   "execution_count": null,
   "metadata": {},
   "outputs": [],
   "source": [
    "#credit catd types\n",
    "\n",
    "# Function to determine credit card type based on the first 4 digits\n",
    "def get_cc_type(cc_num):\n",
    "    cc_num = str(cc_num)\n",
    "    first_four = int(cc_num[:4]) if cc_num[:4].isdigit() else None\n",
    "\n",
    "    if first_four is None:\n",
    "        return \"Unknown\"\n",
    "    elif 4000 <= first_four <= 4999:\n",
    "        return \"Visa\"\n",
    "    elif 5100 <= first_four <= 5599 or 2221 <= first_four <= 2720:\n",
    "        return \"MasterCard\"\n",
    "    elif 3400 <= first_four <= 3499 or 3700 <= first_four <= 3799:\n",
    "        return \"American Express\"\n",
    "    elif 6011 == first_four or 6221 <= first_four <= 6229 or 6440 <= first_four <= 6499 or 6500 <= first_four <= 6599:\n",
    "        return \"Discover\"\n",
    "    elif 3000 <= first_four <= 3059 or first_four in [36, 38]:\n",
    "        return \"Diners Club\"\n",
    "    elif 3528 <= first_four <= 3589:\n",
    "        return \"JCB\"\n",
    "    else:\n",
    "        return \"Unknown\"\n",
    "\n",
    "# Apply function to extract 'cc_type'\n",
    "df['cc_type'] = df['cc_num'].apply(get_cc_type)\n",
    "\n",
    "\n",
    "\n",
    "# Display the distribution of credit card types\n",
    "cc_type_counts = df['cc_type'].value_counts()"
   ]
  },
  {
   "cell_type": "code",
   "execution_count": 2,
   "metadata": {},
   "outputs": [],
   "source": [
    "#df = pd.read_csv('../csv/credit_card_fraud_2019_q1.csv')\n",
    "df = pd.read_csv('csv/credit_card_fraud_sample_10K.csv')"
   ]
  },
  {
   "cell_type": "code",
   "execution_count": null,
   "metadata": {},
   "outputs": [],
   "source": []
  },
  {
   "cell_type": "code",
   "execution_count": null,
   "metadata": {},
   "outputs": [
    {
     "name": "stdout",
     "output_type": "stream",
     "text": [
      "count    10000.000000\n",
      "mean        76.118513\n",
      "std         29.155520\n",
      "min          1.479846\n",
      "25%         55.193012\n",
      "50%         78.512113\n",
      "75%         98.419238\n",
      "max        145.519261\n",
      "Name: distance, dtype: float64\n",
      "skewness -0.24283885376811762\n"
     ]
    },
    {
     "data": {
      "application/vnd.microsoft.datawrangler.viewer.v0+json": {
       "columns": [
        {
         "name": "index",
         "rawType": "int64",
         "type": "integer"
        },
        {
         "name": "Unnamed: 0",
         "rawType": "int64",
         "type": "integer"
        },
        {
         "name": "ssn",
         "rawType": "object",
         "type": "string"
        },
        {
         "name": "cc_num",
         "rawType": "int64",
         "type": "integer"
        },
        {
         "name": "first",
         "rawType": "object",
         "type": "string"
        },
        {
         "name": "last",
         "rawType": "object",
         "type": "string"
        },
        {
         "name": "gender",
         "rawType": "object",
         "type": "string"
        },
        {
         "name": "street",
         "rawType": "object",
         "type": "string"
        },
        {
         "name": "city",
         "rawType": "object",
         "type": "string"
        },
        {
         "name": "state",
         "rawType": "object",
         "type": "string"
        },
        {
         "name": "zip",
         "rawType": "int64",
         "type": "integer"
        },
        {
         "name": "lat",
         "rawType": "float64",
         "type": "float"
        },
        {
         "name": "long",
         "rawType": "float64",
         "type": "float"
        },
        {
         "name": "city_pop",
         "rawType": "int64",
         "type": "integer"
        },
        {
         "name": "job",
         "rawType": "object",
         "type": "string"
        },
        {
         "name": "dob",
         "rawType": "object",
         "type": "string"
        },
        {
         "name": "acct_num",
         "rawType": "int64",
         "type": "integer"
        },
        {
         "name": "profile",
         "rawType": "object",
         "type": "string"
        },
        {
         "name": "trans_num",
         "rawType": "object",
         "type": "string"
        },
        {
         "name": "trans_date",
         "rawType": "object",
         "type": "string"
        },
        {
         "name": "trans_time",
         "rawType": "object",
         "type": "string"
        },
        {
         "name": "unix_time",
         "rawType": "int64",
         "type": "integer"
        },
        {
         "name": "category",
         "rawType": "object",
         "type": "string"
        },
        {
         "name": "amt",
         "rawType": "float64",
         "type": "float"
        },
        {
         "name": "is_fraud",
         "rawType": "int64",
         "type": "integer"
        },
        {
         "name": "merchant",
         "rawType": "object",
         "type": "string"
        },
        {
         "name": "merch_lat",
         "rawType": "float64",
         "type": "float"
        },
        {
         "name": "merch_long",
         "rawType": "float64",
         "type": "float"
        },
        {
         "name": "distance",
         "rawType": "float64",
         "type": "float"
        },
        {
         "name": "distance_category",
         "rawType": "category",
         "type": "unknown"
        }
       ],
       "conversionMethod": "pd.DataFrame",
       "ref": "1ca24cf5-cc1e-4962-81e7-6067ec2a3e2b",
       "rows": [
        [
         "0",
         "8208382",
         "421-07-7177",
         "3534945553430195",
         "Shelia",
         "Fleming",
         "F",
         "153 Dennis Crossing",
         "Weston",
         "WV",
         "26452",
         "39.0411",
         "-80.4737",
         "9676",
         "Human resources officer",
         "1965-12-28",
         "541742634590",
         "adults_50up_female_urban.json",
         "5b159948cb3f4e2b1a82dbe014e2f7db",
         "2020-06-04",
         "19:55:30",
         "1591280730",
         "health_fitness",
         "16.74",
         "0",
         "fraud_Hirthe-Beier",
         "38.224419",
         "-80.100552",
         "96.3045820471289",
         "moderate_51-100_km"
        ],
        [
         "1",
         "12606453",
         "061-53-6686",
         "4183314058259431806",
         "Nicole",
         "Todd",
         "F",
         "088 Jeffrey Prairie Apt. 394",
         "Mountain Center",
         "CA",
         "92561",
         "33.6401",
         "-116.5567",
         "1661",
         "Administrator, charities/voluntary organisations",
         "1967-05-14",
         "554244831767",
         "adults_50up_female_rural.json",
         "93550825285d02993ed8a30d269025c8",
         "2019-11-10",
         "01:16:24",
         "1573328784",
         "shopping_net",
         "745.63",
         "0",
         "fraud_Schmidt and Sons",
         "32.952717",
         "-116.368019",
         "78.2366748410848",
         "moderate_51-100_km"
        ],
        [
         "2",
         "28301366",
         "038-31-5036",
         "2261044046656441",
         "Matthew",
         "Mann",
         "M",
         "3315 Holmes Junctions",
         "Greensboro",
         "NC",
         "27410",
         "36.1032",
         "-79.8794",
         "305168",
         "Oncologist",
         "1996-09-06",
         "628245054586",
         "adults_2550_male_urban.json",
         "b6a1fc16622b0ed557f0af093ecc8512",
         "2020-08-12",
         "20:29:53",
         "1597244393",
         "home",
         "94.13",
         "0",
         "fraud_Bahringer, Bergnaum and Quitzon",
         "35.419988",
         "-80.107734",
         "78.56750187626012",
         "moderate_51-100_km"
        ],
        [
         "3",
         "11771739",
         "830-11-6351",
         "374795838353160",
         "Carolyn",
         "Hall",
         "F",
         "242 Carroll Bypass",
         "Spokane",
         "WA",
         "99208",
         "47.7374",
         "-117.4352",
         "342856",
         "Hydrologist",
         "1962-07-31",
         "663905650306",
         "adults_50up_female_urban.json",
         "2e944bdc8faa762005f0b0486010d307",
         "2019-09-21",
         "02:28:11",
         "1569013091",
         "shopping_net",
         "73.43",
         "0",
         "fraud_Heathcote, Yost and Kertzmann",
         "47.441771",
         "-117.255467",
         "35.540195043574165",
         "close_21-50_km"
        ],
        [
         "4",
         "12450008",
         "408-99-8998",
         "4122635746026142330",
         "Andre",
         "Rice",
         "M",
         "8085 Burgess Junctions",
         "Myrtle Beach",
         "SC",
         "29588",
         "33.7226",
         "-78.9782",
         "119080",
         "Therapist, occupational",
         "2003-06-30",
         "115066483855",
         "young_adults_male_urban.json",
         "f4c5d40c54cb268beb8f501df22785d6",
         "2019-04-21",
         "03:00:46",
         "1555795846",
         "gas_transport",
         "35.49",
         "0",
         "fraud_Raynor, Reinger and Hagenes",
         "33.911297",
         "-78.05701",
         "87.81637821672852",
         "moderate_51-100_km"
        ]
       ],
       "shape": {
        "columns": 29,
        "rows": 5
       }
      },
      "text/html": [
       "<div>\n",
       "<style scoped>\n",
       "    .dataframe tbody tr th:only-of-type {\n",
       "        vertical-align: middle;\n",
       "    }\n",
       "\n",
       "    .dataframe tbody tr th {\n",
       "        vertical-align: top;\n",
       "    }\n",
       "\n",
       "    .dataframe thead th {\n",
       "        text-align: right;\n",
       "    }\n",
       "</style>\n",
       "<table border=\"1\" class=\"dataframe\">\n",
       "  <thead>\n",
       "    <tr style=\"text-align: right;\">\n",
       "      <th></th>\n",
       "      <th>Unnamed: 0</th>\n",
       "      <th>ssn</th>\n",
       "      <th>cc_num</th>\n",
       "      <th>first</th>\n",
       "      <th>last</th>\n",
       "      <th>gender</th>\n",
       "      <th>street</th>\n",
       "      <th>city</th>\n",
       "      <th>state</th>\n",
       "      <th>zip</th>\n",
       "      <th>...</th>\n",
       "      <th>trans_time</th>\n",
       "      <th>unix_time</th>\n",
       "      <th>category</th>\n",
       "      <th>amt</th>\n",
       "      <th>is_fraud</th>\n",
       "      <th>merchant</th>\n",
       "      <th>merch_lat</th>\n",
       "      <th>merch_long</th>\n",
       "      <th>distance</th>\n",
       "      <th>distance_category</th>\n",
       "    </tr>\n",
       "  </thead>\n",
       "  <tbody>\n",
       "    <tr>\n",
       "      <th>0</th>\n",
       "      <td>8208382</td>\n",
       "      <td>421-07-7177</td>\n",
       "      <td>3534945553430195</td>\n",
       "      <td>Shelia</td>\n",
       "      <td>Fleming</td>\n",
       "      <td>F</td>\n",
       "      <td>153 Dennis Crossing</td>\n",
       "      <td>Weston</td>\n",
       "      <td>WV</td>\n",
       "      <td>26452</td>\n",
       "      <td>...</td>\n",
       "      <td>19:55:30</td>\n",
       "      <td>1591280730</td>\n",
       "      <td>health_fitness</td>\n",
       "      <td>16.74</td>\n",
       "      <td>0</td>\n",
       "      <td>fraud_Hirthe-Beier</td>\n",
       "      <td>38.224419</td>\n",
       "      <td>-80.100552</td>\n",
       "      <td>96.304582</td>\n",
       "      <td>moderate_51-100_km</td>\n",
       "    </tr>\n",
       "    <tr>\n",
       "      <th>1</th>\n",
       "      <td>12606453</td>\n",
       "      <td>061-53-6686</td>\n",
       "      <td>4183314058259431806</td>\n",
       "      <td>Nicole</td>\n",
       "      <td>Todd</td>\n",
       "      <td>F</td>\n",
       "      <td>088 Jeffrey Prairie Apt. 394</td>\n",
       "      <td>Mountain Center</td>\n",
       "      <td>CA</td>\n",
       "      <td>92561</td>\n",
       "      <td>...</td>\n",
       "      <td>01:16:24</td>\n",
       "      <td>1573328784</td>\n",
       "      <td>shopping_net</td>\n",
       "      <td>745.63</td>\n",
       "      <td>0</td>\n",
       "      <td>fraud_Schmidt and Sons</td>\n",
       "      <td>32.952717</td>\n",
       "      <td>-116.368019</td>\n",
       "      <td>78.236675</td>\n",
       "      <td>moderate_51-100_km</td>\n",
       "    </tr>\n",
       "    <tr>\n",
       "      <th>2</th>\n",
       "      <td>28301366</td>\n",
       "      <td>038-31-5036</td>\n",
       "      <td>2261044046656441</td>\n",
       "      <td>Matthew</td>\n",
       "      <td>Mann</td>\n",
       "      <td>M</td>\n",
       "      <td>3315 Holmes Junctions</td>\n",
       "      <td>Greensboro</td>\n",
       "      <td>NC</td>\n",
       "      <td>27410</td>\n",
       "      <td>...</td>\n",
       "      <td>20:29:53</td>\n",
       "      <td>1597244393</td>\n",
       "      <td>home</td>\n",
       "      <td>94.13</td>\n",
       "      <td>0</td>\n",
       "      <td>fraud_Bahringer, Bergnaum and Quitzon</td>\n",
       "      <td>35.419988</td>\n",
       "      <td>-80.107734</td>\n",
       "      <td>78.567502</td>\n",
       "      <td>moderate_51-100_km</td>\n",
       "    </tr>\n",
       "    <tr>\n",
       "      <th>3</th>\n",
       "      <td>11771739</td>\n",
       "      <td>830-11-6351</td>\n",
       "      <td>374795838353160</td>\n",
       "      <td>Carolyn</td>\n",
       "      <td>Hall</td>\n",
       "      <td>F</td>\n",
       "      <td>242 Carroll Bypass</td>\n",
       "      <td>Spokane</td>\n",
       "      <td>WA</td>\n",
       "      <td>99208</td>\n",
       "      <td>...</td>\n",
       "      <td>02:28:11</td>\n",
       "      <td>1569013091</td>\n",
       "      <td>shopping_net</td>\n",
       "      <td>73.43</td>\n",
       "      <td>0</td>\n",
       "      <td>fraud_Heathcote, Yost and Kertzmann</td>\n",
       "      <td>47.441771</td>\n",
       "      <td>-117.255467</td>\n",
       "      <td>35.540195</td>\n",
       "      <td>close_21-50_km</td>\n",
       "    </tr>\n",
       "    <tr>\n",
       "      <th>4</th>\n",
       "      <td>12450008</td>\n",
       "      <td>408-99-8998</td>\n",
       "      <td>4122635746026142330</td>\n",
       "      <td>Andre</td>\n",
       "      <td>Rice</td>\n",
       "      <td>M</td>\n",
       "      <td>8085 Burgess Junctions</td>\n",
       "      <td>Myrtle Beach</td>\n",
       "      <td>SC</td>\n",
       "      <td>29588</td>\n",
       "      <td>...</td>\n",
       "      <td>03:00:46</td>\n",
       "      <td>1555795846</td>\n",
       "      <td>gas_transport</td>\n",
       "      <td>35.49</td>\n",
       "      <td>0</td>\n",
       "      <td>fraud_Raynor, Reinger and Hagenes</td>\n",
       "      <td>33.911297</td>\n",
       "      <td>-78.057010</td>\n",
       "      <td>87.816378</td>\n",
       "      <td>moderate_51-100_km</td>\n",
       "    </tr>\n",
       "  </tbody>\n",
       "</table>\n",
       "<p>5 rows × 29 columns</p>\n",
       "</div>"
      ],
      "text/plain": [
       "   Unnamed: 0          ssn               cc_num    first     last gender  \\\n",
       "0     8208382  421-07-7177     3534945553430195   Shelia  Fleming      F   \n",
       "1    12606453  061-53-6686  4183314058259431806   Nicole     Todd      F   \n",
       "2    28301366  038-31-5036     2261044046656441  Matthew     Mann      M   \n",
       "3    11771739  830-11-6351      374795838353160  Carolyn     Hall      F   \n",
       "4    12450008  408-99-8998  4122635746026142330    Andre     Rice      M   \n",
       "\n",
       "                         street             city state    zip  ...  \\\n",
       "0           153 Dennis Crossing           Weston    WV  26452  ...   \n",
       "1  088 Jeffrey Prairie Apt. 394  Mountain Center    CA  92561  ...   \n",
       "2         3315 Holmes Junctions       Greensboro    NC  27410  ...   \n",
       "3            242 Carroll Bypass          Spokane    WA  99208  ...   \n",
       "4        8085 Burgess Junctions     Myrtle Beach    SC  29588  ...   \n",
       "\n",
       "   trans_time   unix_time        category     amt is_fraud  \\\n",
       "0    19:55:30  1591280730  health_fitness   16.74        0   \n",
       "1    01:16:24  1573328784    shopping_net  745.63        0   \n",
       "2    20:29:53  1597244393            home   94.13        0   \n",
       "3    02:28:11  1569013091    shopping_net   73.43        0   \n",
       "4    03:00:46  1555795846   gas_transport   35.49        0   \n",
       "\n",
       "                                merchant  merch_lat  merch_long   distance  \\\n",
       "0                     fraud_Hirthe-Beier  38.224419  -80.100552  96.304582   \n",
       "1                 fraud_Schmidt and Sons  32.952717 -116.368019  78.236675   \n",
       "2  fraud_Bahringer, Bergnaum and Quitzon  35.419988  -80.107734  78.567502   \n",
       "3    fraud_Heathcote, Yost and Kertzmann  47.441771 -117.255467  35.540195   \n",
       "4      fraud_Raynor, Reinger and Hagenes  33.911297  -78.057010  87.816378   \n",
       "\n",
       "    distance_category  \n",
       "0  moderate_51-100_km  \n",
       "1  moderate_51-100_km  \n",
       "2  moderate_51-100_km  \n",
       "3      close_21-50_km  \n",
       "4  moderate_51-100_km  \n",
       "\n",
       "[5 rows x 29 columns]"
      ]
     },
     "execution_count": 19,
     "metadata": {},
     "output_type": "execute_result"
    },
    {
     "data": {
      "image/png": "[encoded data removed]",
      "text/plain": [
       "<Figure size 1000x600 with 1 Axes>"
      ]
     },
     "metadata": {},
     "output_type": "display_data"
    }
   ],
   "source": [
    "from geopy.distance import geodesic\n",
    "\n",
    "\n",
    "# Function to calculate distance between user and merchant locations\n",
    "def calculate_distance(row):\n",
    "    user_location = (row['lat'], row['long'])\n",
    "    merchant_location = (row['merch_lat'], row['merch_long'])\n",
    "    return geodesic(user_location, merchant_location).kilometers\n",
    "\n",
    "# Apply distance calculation\n",
    "df['distance'] = df.apply(calculate_distance, axis=1)\n",
    "\n",
    "print(df['distance'].describe())\n",
    "print('skewness', df['distance'].skew()) # -0.24, largely symmetrical distribution with a slight pull to the left\n",
    "\n",
    "# Display the distribution of distances \n",
    "plt.figure(figsize=(10, 6))\n",
    "sns.histplot(df['distance'], bins=30, kde=True)\n",
    "\n",
    "distance_bins = [0, 20, 50, 100, 150]  # Ranges for categorization\n",
    "distance_labels = [\"local_0-20_km\", \"close_21-50_km\", \"moderate_51-100_km\", \"far_101-150_km\"]\n",
    "\n",
    "# Create a new column with distance categories\n",
    "df['distance_category'] = pd.cut(df['distance'], bins=distance_bins, labels=distance_labels, include_lowest=True)\n",
    "\n",
    "df.head()"
   ]
  },
  {
   "cell_type": "code",
   "execution_count": null,
   "metadata": {},
   "outputs": [],
   "source": []
  },
  {
   "cell_type": "code",
   "execution_count": null,
   "metadata": {},
   "outputs": [],
   "source": []
  },
  {
   "cell_type": "code",
   "execution_count": 28,
   "metadata": {},
   "outputs": [],
   "source": [
    "df = pd.read_csv('../csv/credit_card_fraud_2019_q1.csv')"
   ]
  },
  {
   "cell_type": "code",
   "execution_count": 29,
   "metadata": {},
   "outputs": [],
   "source": [
    "# Load the CSV file\n",
    "input_file = '../csv/credit_card_fraud_2019_q1.csv'  # Replace with your actual file name\n",
    "output_file = '../csv/credit_card_fraud_2019_q1_15K_rows.csv'\n",
    "\n",
    "# Read the CSV and extract the first 15,000 rows\n",
    "df = pd.read_csv(input_file, nrows=15000)\n",
    "\n",
    "# Save the extracted rows to a new CSV file\n",
    "df.to_csv(output_file, index=False)"
   ]
  },
  {
   "cell_type": "code",
   "execution_count": null,
   "metadata": {},
   "outputs": [
    {
     "data": {
      "text/plain": [
       "array([4499269417632698520,     346420582735828,    4961629578826674, ...,\n",
       "          6586533791930521,     213102505373503,    6011074559874044],\n",
       "      dtype=int64)"
      ]
     },
     "execution_count": 22,
     "metadata": {},
     "output_type": "execute_result"
    }
   ],
   "source": [
    "df['cc_num'].unique() "
   ]
  },
  {
   "cell_type": "code",
   "execution_count": 23,
   "metadata": {},
   "outputs": [
    {
     "data": {
      "text/plain": [
       "0"
      ]
     },
     "execution_count": 23,
     "metadata": {},
     "output_type": "execute_result"
    }
   ],
   "source": [
    "# Count the occurrences of each cc_num value\n",
    "cc_num_counts = df['cc_num'].value_counts()\n",
    "\n",
    "# Count how many cc_num values appear only once\n",
    "unique_cc_num_count = (cc_num_counts == 1).sum()\n",
    "unique_cc_num_count"
   ]
  },
  {
   "cell_type": "code",
   "execution_count": 27,
   "metadata": {},
   "outputs": [
    {
     "data": {
      "text/plain": [
       "job_cat\n",
       "Other                          1152508\n",
       "Healthcare & Medical            514167\n",
       "Business & Management           452570\n",
       "Engineering & Technical         402981\n",
       "Creative & Media                320214\n",
       "Finance & Accounting            160591\n",
       "Education & Training            141004\n",
       "Software & IT                    53018\n",
       "Consulting                       15322\n",
       "Agriculture & Environmental       7763\n",
       "Government & Public Sector        6143\n",
       "Name: count, dtype: int64"
      ]
     },
     "execution_count": 27,
     "metadata": {},
     "output_type": "execute_result"
    }
   ],
   "source": [
    "\n",
    "def categorize_jobs(df, job_column=\"job\"):\n",
    "    \"\"\"\n",
    "    Categorizes jobs based on keywords derived from the latest refined job mapping\n",
    "    and creates a new column 'job_cat'.\n",
    "    \n",
    "    Parameters:\n",
    "    df (DataFrame): The dataframe containing the job column.\n",
    "    job_column (str): The name of the column that contains job titles.\n",
    "    \n",
    "    Returns:\n",
    "    DataFrame: The dataframe with a new column 'job_cat' containing the job categories.\n",
    "    \"\"\"\n",
    "    # Define the latest refined job mapping\n",
    "    refined_job_mapping = {\n",
    "        \"Healthcare & Medical\": [\"Nurse\", \"Midwife\", \"Immunologist\", \"Mental health nurse\", \"Child psychotherapist\", \n",
    "                                  \"Speech and language therapist\", \"Clinical molecular geneticist\", \"Scientist\",\n",
    "                                  \"Doctor\", \"Physician\", \"Surgeon\", \"Hospital doctor\", \"General practitioner\",\n",
    "                                  \"Clinical scientist\", \"Radiologist\", \"Psychiatrist\", \"Dentist\", \"Optometrist\",\n",
    "                                  \"Pharmacist\", \"Therapist\", \"Physiotherapist\", \"Oncologist\", \"Neurologist\",\n",
    "                                  \"Cardiologist\", \"Pediatrician\", \"Endocrinologist\", \"Urologist\", \"Chiropractor\",\n",
    "                                  \"Anesthesiologist\", \"Dietitian\", \"Orthodontist\", \"Paramedic\", \"Occupational therapist\",\n",
    "                                  \"General practice doctor\", \"Health physicist\", \"Radiographer, therapeutic\", \"Psychologist, clinical\",\n",
    "                                  \"Orthoptist\", \"Ophthalmologist\", \"Haematologist\", \"Pathologist\", \"Toxicologist\",\n",
    "                                  \"Homeopath\", \"Nurse, mental health\", \"Optician\", \"Ambulance\", \"Health\"],\n",
    "        \"Engineering & Technical\": [\"Engineer\", \"Automotive engineer\", \"Water engineer\", \"Operations geologist\", \n",
    "                                    \"Electrical engineer\", \"Mechanical engineer\", \"Chemical engineer\", \"Civil engineer\",\n",
    "                                    \"Aerospace engineer\", \"Biomedical engineer\", \"Environmental engineer\", \"Structural engineer\", \n",
    "                                    \"Industrial engineer\", \"Mining engineer\", \"Engineer, control and instrumentation\",\n",
    "                                    \"Technologist\", \"Technician\", \"Hydrologist\", \"Hydrogeologist\", \"Arboriculturist\", \"Tree surgeon\"],\n",
    "        \"Software & IT\": [\"IT consultant\", \"Software developer\", \"Data scientist\", \"Cybersecurity analyst\",\n",
    "                          \"System administrator\", \"Network engineer\", \"Telecom specialist\", \"Machine learning engineer\", \n",
    "                          \"Robotics engineer\", \"AI specialist\", \"DevOps engineer\", \"Database administrator\", \"Web developer\",\n",
    "                          \"Cloud architect\", \"Game developer\", \"Games\", \"Application\", \"Programmer\", \"Systems developer\"],\n",
    "        \"Education & Training\": [\"Teacher\", \"Outdoor activities/education manager\", \"Professor\", \"Lecturer\", \"Tutor\",\n",
    "                                 \"Trainer\", \"Instructional designer\", \"Education consultant\", \"Principal\", \"School counselor\",\n",
    "                                 \"Curriculum developer\", \"Teacher, secondary school\", \"Librarian\"],\n",
    "        \"Finance & Accounting\": [\"Dealer\", \"Financial analyst\", \"Accountant\", \"Auditor\", \"Investment banker\", \n",
    "                                 \"Economist\", \"Bank manager\", \"Actuary\", \"Tax consultant\", \"Insurance agent\",\n",
    "                                 \"Financial planner\", \"Risk analyst\", \"Loan officer\", \"Financial adviser\", \n",
    "                                 \"Accountant, chartered public finance\", \"Tax\", \"Trader\", \"Investment\", \"Insurance\"],\n",
    "        \"Business & Management\": [\"Facilities manager\", \"Event organiser\", \"Project manager\", \"Operations manager\", \n",
    "                                  \"HR manager\", \"Business consultant\", \"Strategy consultant\", \"Executive director\",\n",
    "                                  \"Entrepreneur\", \"Supply chain manager\", \"Management consultant\", \"Secretary\", \"Executive\",\n",
    "                                  \"Officer\", \"Director\", \"Administrator\"],\n",
    "        \"Government & Public Sector\": [\"Research officer, government\", \"Surveyor, building control\", \"Information officer\", \n",
    "                                       \"Policy analyst\", \"Public relations officer\", \"Government administrator\", \"Urban planner\", \n",
    "                                       \"Customs officer\", \"Diplomat\", \"Legislative assistant\", \"Forensic scientist\"],\n",
    "        \"Creative & Media\": [\"Printmaker\", \"Graphic designer\", \"Journalist\", \"Photographer\", \"Videographer\", \n",
    "                             \"Illustrator\", \"Animator\", \"Film director\", \"Content creator\", \"Editor\", \"Copywriter\", \n",
    "                             \"Fashion designer\", \"Interior designer\", \"Colour technologist\", \"Camera\", \"Broadcast\", \n",
    "                             \"Magazine\", \"Broadcasting\", \"Film\", \"Video\", \"Designer\", \"Television\", \"Theatre\", \"Radio\"],\n",
    "        \"Consulting\": [\"Business consultant\", \"IT consultant\", \"Strategy consultant\", \"Legal consultant\", \"Adviser\", \"Advice\"],\n",
    "        \"Agriculture & Environmental\": [\"Farmer\", \"Agronomist\", \"Food scientist\", \"Environmental scientist\", \"Ecologist\", \"Park ranger\", \"Forestry technician\",\n",
    "                                          \"Hydrologist\", \"Hydrogeologist\", \"Herpetologist\", \"Arboriculturist\", \"Tree surgeon\"],\n",
    "    }\n",
    "    \n",
    "    # Categorize job based on keyword matching\n",
    "    def find_category(job_title):\n",
    "        for category, keywords in refined_job_mapping.items():\n",
    "            if any(keyword.lower() in job_title.lower() for keyword in keywords):\n",
    "                return category\n",
    "        return \"Other\"\n",
    "    \n",
    "    # Apply categorization function to the job column\n",
    "    df[\"job_cat\"] = df[job_column].apply(find_category)\n",
    "    \n",
    "    return df\n",
    "\n",
    "\n",
    "\n",
    "# Apply the function to categorize jobs in the dataset\n",
    "df = categorize_jobs(df, job_column=\"job\")\n",
    "\n",
    "# Display first few rows to confirm\n",
    "df.head()\n",
    "df['job_cat'].value_counts()\n"
   ]
  }
 ],
 "metadata": {
  "kernelspec": {
   "display_name": "ds18_ml-proj1",
   "language": "python",
   "name": "python3"
  },
  "language_info": {
   "codemirror_mode": {
    "name": "ipython",
    "version": 3
   },
   "file_extension": ".py",
   "mimetype": "text/x-python",
   "name": "python",
   "nbconvert_exporter": "python",
   "pygments_lexer": "ipython3",
   "version": "3.9.21"
  }
 },
 "nbformat": 4,
 "nbformat_minor": 2
}
